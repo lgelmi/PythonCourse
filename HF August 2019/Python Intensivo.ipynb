{
 "cells": [
  {
   "cell_type": "markdown",
   "metadata": {
    "slideshow": {
     "slide_type": "slide"
    }
   },
   "source": [
    "# Python Intensivo\n",
    "\n",
    "<img src=\"images/python_logo.png\"/>\n",
    "\n",
    "Il corso consiste di sole 6 ore. \n",
    "Gli argomenti sono tanti. "
   ]
  },
  {
   "cell_type": "markdown",
   "metadata": {
    "slideshow": {
     "slide_type": "subslide"
    }
   },
   "source": [
    "<img src=\"images/brace_yourselves.jpg\"/>"
   ]
  },
  {
   "cell_type": "markdown",
   "metadata": {
    "slideshow": {
     "slide_type": "skip"
    }
   },
   "source": [
    "Il contenuto del corso si trova anche su https://github.com/lgelmi/PythonCourse."
   ]
  },
  {
   "cell_type": "markdown",
   "metadata": {
    "slideshow": {
     "slide_type": "skip"
    }
   },
   "source": [
    "## Indice:\n",
    "* [Strumenti Avanzati](#advanced_tools)\n",
    "    - [Conda](#conda)\n",
    "        - [Che è?](#conda_purpose)\n",
    "        - [Installazione](#conda_install)\n",
    "        - [Gestione Ambienti](#conda_envs)\n",
    "        - [Gestione Pacchetti](#conda_packages)\n",
    "    - [Jupyter](#jupyter)\n",
    "        - [Che è?](#jupyter_purpose)\n",
    "        - [Installazione](#jupyter_install)\n",
    "        - [Lancio](#jupyter_start)\n",
    "        - [Markdown](#jupyter_markdown)\n",
    "        - [Codice](#jupyter_code)\n",
    "        \n",
    "        \n",
    "* [Peppotto (PEP8)](#pep8)\n",
    "    - [Imports](#pep8_imports)\n",
    "    - [Naming](#pep8_naming)\n",
    "    \n",
    "    \n",
    "* [The Zen of Python](#zen)\n",
    "    - [Simple is better than complex](#zen_3)\n",
    "    - [Complex is better than complicated](#zen_4)\n",
    "    - [Special cases aren't special enough to break the rules](#zen_8)\n",
    "    - [Altough praticality beats purity](#zen_9)\n",
    "    \n",
    "\n",
    "* [Compattezza, Efficienza, Leggibilità](#compactness)\n",
    "    - [Misurare le performance](#performance)\n",
    "        - [time](#time)\n",
    "        - [timeit](#timeit)\n",
    "        - [profile](#profile)\n",
    "    - [Operatore ternario](#ternary)\n",
    "    - [Comprehension](#comprehension)\n",
    "    - [Mapping](#mapping)\n",
    "    - [Ricorsione](#recursion)\n",
    "\n",
    "\n",
    "* [Funzioni Avanzate](#advanced_features)\n",
    "    - [\\*args e \\**kwargs](#args)\n",
    "    - [Gestione Errori](#error_handling)\n",
    "        - [Eccezione? E che roba è?](#exception)\n",
    "        - [raise](#raise)\n",
    "        - [except](#except)\n",
    "        - [else](#else)\n",
    "        - [finally](#finally)\n",
    "        - [Debug](#debug)\n",
    "    - [Decoratori](#decorators)\n",
    "\n",
    "* [Pacchetti essenziali](#essential_packages)\n",
    "    - [logging](#logging)\n",
    "    - [re](#re)\n",
    "    - [Itertools](#itertools)\n",
    "\n",
    "\n",
    "* [Basi di data analisi](#data_analysis)\n",
    "    - [Gestione File](#file_handling)\n",
    "        - [with](#with)\n",
    "        - [Load data from csv](#csv)\n",
    "        - [Fixing Data Types](#fixing_types)\n",
    "    - [numpy](#numpy)\n",
    "    - [pandas](#pandas)\n",
    "\n",
    "\n",
    "* [Documentare il codice](#documenting)\n",
    "    - [Typing](#typing)\n",
    "    - [Struttura dei Progetti](#project)\n",
    "    - [Sphinx](#sphinx)\n",
    "    \n",
    "\n",
    "* [Risorse Esterne](#external_resources)\n",
    "***"
   ]
  },
  {
   "cell_type": "markdown",
   "metadata": {
    "slideshow": {
     "slide_type": "slide"
    }
   },
   "source": [
    "<a id='advanced_tools'></a>\n",
    "# Strumenti Avanzati\n",
    "A volte un IDE non basta per gestire tutte le necessità di uno sviluppatore.\n",
    "\n",
    "In questo capitolo vedremo un paio di tool utili **conda** e **jupyter**. "
   ]
  },
  {
   "cell_type": "markdown",
   "metadata": {
    "slideshow": {
     "slide_type": "slide"
    }
   },
   "source": [
    "<a id='conda'></a>\n",
    "<img src=\"images/conda.png\" width=\"400\" align=\"left\"/>"
   ]
  },
  {
   "cell_type": "markdown",
   "metadata": {
    "slideshow": {
     "slide_type": "subslide"
    }
   },
   "source": [
    "<a id='conda_purpose'></a>\n",
    "### Che è?\n",
    "\n",
    "**Gestore di pacchetti**\n",
    "\n",
    "Conda è fondamentalmente un gestore di pacchetti: permette di installare e/o rimuovere dei pacchetti dal proprio ambiente non curandosi delle loro dipendenze.\n",
    "\n",
    "**N.B.:** I pacchetti in questione non necessariamente devono essere dei moduli Python. Questo significa che si possono gestire anche ambienti composti da moduli in diversi linguaggi.\n",
    "\n",
    "In questo somiglia a pip, con la differenza che pip non è in grado di gestire librerie con dipendenze esterne a Python!\n",
    "\n",
    "**Gestore di ambienti**\n",
    "\n",
    "Oltre alla gestione di pacchetti, conda permette la gestione di *ambienti*. \n",
    "Un ambiente è essenzialmente un'insieme di pacchetti isolati tra loro.\n",
    "\n",
    "Essenzialmente svolge una funzione analoga a quella dei Virtual Env."
   ]
  },
  {
   "cell_type": "markdown",
   "metadata": {
    "slideshow": {
     "slide_type": "skip"
    }
   },
   "source": [
    "***"
   ]
  },
  {
   "cell_type": "markdown",
   "metadata": {
    "slideshow": {
     "slide_type": "subslide"
    }
   },
   "source": [
    "<a id='conda_install'></a>\n",
    "#### Installazione\n",
    "\n",
    "<img src=\"images/real_conda.jpg\" align=\"left\"/>"
   ]
  },
  {
   "cell_type": "markdown",
   "metadata": {
    "slideshow": {
     "slide_type": "subslide"
    }
   },
   "source": [
    "Esistono diversi modi per installare conda, ma il più semplice in assoluto è semplicemente scaricare l'installer dal [sito di Anaconda](https://www.anaconda.com/distribution/).\n",
    "\n",
    "A prescindere dalla versione di Python che vorrete utilizzare, il mio consiglio è di installare la versione Anaconda in Python 3: questa indica la versione in cui è scritto conda stesso.\n",
    "Potrete poi configurare i vostri ambienti con le versioni che meglio credete.\n",
    "\n",
    "La distribuzione di Anaconda viene installata con tanto di un bellissimo IDE per la gestione di ambienti e pacchetti. \n",
    "Io l'ho sempre trovata troppo lenta, quindi preferisco un approccio più a basso livello, che vi consiglio."
   ]
  },
  {
   "cell_type": "markdown",
   "metadata": {
    "slideshow": {
     "slide_type": "skip"
    }
   },
   "source": [
    "***"
   ]
  },
  {
   "cell_type": "markdown",
   "metadata": {
    "slideshow": {
     "slide_type": "subslide"
    }
   },
   "source": [
    "<font color='red'>Attenzione:</font> Powershell fa al momento un po' fatica a gestire i comandi conda..."
   ]
  },
  {
   "cell_type": "markdown",
   "metadata": {
    "slideshow": {
     "slide_type": "skip"
    }
   },
   "source": [
    "***"
   ]
  },
  {
   "cell_type": "markdown",
   "metadata": {
    "slideshow": {
     "slide_type": "subslide"
    }
   },
   "source": [
    "<a id='conda_envs'></a>\n",
    "#### Gestione Ambienti\n",
    "\n",
    "Ovviamente anaconda permette di svolgere una lunga serie di operazioni per gestire gli ambienti a disposizione di cui si può trovare una descrizione piuttosto completa nella [documentazione ufficiale](https://docs.conda.io/projects/conda/en/latest/user-guide/tasks/manage-environments.html).\n",
    "\n",
    "Di seguito riporto solo le principali, che tendenzialmente saranno le uniche di cui vi capiterà di avere bisogno per un utilizzo *standard*."
   ]
  },
  {
   "cell_type": "markdown",
   "metadata": {
    "slideshow": {
     "slide_type": "subslide"
    }
   },
   "source": [
    "**Creazione**\n",
    "Ci sono diversi modi per creare un ambiente, a seconda di quanto se ne voglia automatizzare il processo:\n",
    "\n",
    "    conda create --name myenv\n",
    "    \n",
    "    conda create -n myenv python=3.7 numpy\n",
    "    \n",
    "    conda env create -f environment.yml"
   ]
  },
  {
   "cell_type": "markdown",
   "metadata": {
    "slideshow": {
     "slide_type": "subslide"
    }
   },
   "source": [
    "**Attivazione/Disattivazione**\n",
    "Finchè un ambiente non è attivo, di fatto non lo starete utilizzando. \n",
    "I comandi di attivazione possono cambiare a seconda del sistema operativo.\n",
    "Su Windows i comandi sono:\n",
    "    \n",
    "    activate myenv\n",
    "    deactivate"
   ]
  },
  {
   "cell_type": "markdown",
   "metadata": {
    "slideshow": {
     "slide_type": "subslide"
    }
   },
   "source": [
    "**Elencare gli ambienti**\n",
    "Capita spesso di non ricordarsi il nome di tutti gli ambienti che si sono installati, o semplicemente non sapere qual è quello correntemente attivo.\n",
    "Per avere queste informazioni:\n",
    "\n",
    "    conda env list\n",
    "    \n",
    "Questo vi darà anche informazioni sulla cartella di installazione dell'ambiente."
   ]
  },
  {
   "cell_type": "markdown",
   "metadata": {
    "slideshow": {
     "slide_type": "skip"
    }
   },
   "source": [
    "***"
   ]
  },
  {
   "cell_type": "markdown",
   "metadata": {
    "slideshow": {
     "slide_type": "subslide"
    }
   },
   "source": [
    "<a id='conda_packages'></a>\n",
    "#### Gestione Pacchetti\n",
    "La gestione dei pacchetti è molto simile a quella di pip.\n",
    "Anche in questo caso, il riferimento migliore è la [documentazione ufficiale](https://docs.conda.io/projects/conda/en/latest/user-guide/tasks/manage-pkgs.html)"
   ]
  },
  {
   "cell_type": "markdown",
   "metadata": {
    "slideshow": {
     "slide_type": "subslide"
    }
   },
   "source": [
    "**Installazione**\n",
    "Python è considerato un pacchetto come tanti altri, quindi si presta bene come esempio:\n",
    "\n",
    "    conda install python\n",
    "    \n",
    "    conda install python=3\n",
    "    \n",
    "    conda install python=3.7\n",
    "    \n",
    "    conda install python numpy"
   ]
  },
  {
   "cell_type": "markdown",
   "metadata": {
    "slideshow": {
     "slide_type": "subslide"
    }
   },
   "source": [
    "    \n",
    "**Aggiornamento**\n",
    "Una volta installati i pacchetti si possono aggiornare alla versione più recente:\n",
    "\n",
    "    conda update numpy\n",
    "\n",
    "Si noti che conda stesso è considerato un pacchetto:\n",
    "    \n",
    "    conda update conda\n",
    "    \n",
    "Si può anche aggiornare tutto:\n",
    "\n",
    "    conda update --all"
   ]
  },
  {
   "cell_type": "markdown",
   "metadata": {
    "slideshow": {
     "slide_type": "subslide"
    }
   },
   "source": [
    "**Rimozione**   \n",
    "Si può rimuovere un pacchetto nell'ambiente corrente\n",
    "\n",
    "    conda remove numpy\n",
    "    \n",
    "o specificarne il nome\n",
    "    \n",
    "    conda remove -n myenv numpy"
   ]
  },
  {
   "cell_type": "markdown",
   "metadata": {
    "slideshow": {
     "slide_type": "subslide"
    }
   },
   "source": [
    "**Elenco**\n",
    "Per avere tutte le informazioni riguardanti i pacchetti installati nell'ambiente attivo:\n",
    "\n",
    "    conda list\n",
    "    \n",
    "Oppure per un ambiente usandone il nome:\n",
    "\n",
    "    conda list -n myenv\n",
    "   "
   ]
  },
  {
   "cell_type": "markdown",
   "metadata": {
    "slideshow": {
     "slide_type": "skip"
    }
   },
   "source": [
    "***"
   ]
  },
  {
   "cell_type": "markdown",
   "metadata": {
    "slideshow": {
     "slide_type": "subslide"
    }
   },
   "source": [
    "<font color='red'>Attenzione:</font> Alcuni pacchetti potrebbero non essere disponibili sui server conda standard. Potete installarli tramite pip, ma non verranno gestiti da conda in tal caso."
   ]
  },
  {
   "cell_type": "markdown",
   "metadata": {
    "slideshow": {
     "slide_type": "skip"
    }
   },
   "source": [
    "***"
   ]
  },
  {
   "cell_type": "markdown",
   "metadata": {
    "slideshow": {
     "slide_type": "subslide"
    }
   },
   "source": [
    "#### Esercizio 1: Creare un nuovo ambiente"
   ]
  },
  {
   "cell_type": "markdown",
   "metadata": {
    "slideshow": {
     "slide_type": "subslide"
    }
   },
   "source": [
    "#### Esercizio 2: Creare un nuovo ambiente tramite PyCharm"
   ]
  },
  {
   "cell_type": "markdown",
   "metadata": {
    "slideshow": {
     "slide_type": "skip"
    }
   },
   "source": [
    "***"
   ]
  },
  {
   "cell_type": "markdown",
   "metadata": {
    "slideshow": {
     "slide_type": "slide"
    }
   },
   "source": [
    "<a id='jupyter_notebooks'></a>\n",
    "<img src=\"images/jupyter_logo.png\" width=\"250\" align=\"left\" target=\"_blank\"/>"
   ]
  },
  {
   "cell_type": "markdown",
   "metadata": {
    "slideshow": {
     "slide_type": "subslide"
    }
   },
   "source": [
    "<a id='jupyter_purpose'></a>\n",
    "### Che è?\n",
    "\n",
    "È quest'affare che sto usando come supporto per la lezione."
   ]
  },
  {
   "cell_type": "markdown",
   "metadata": {
    "slideshow": {
     "slide_type": "subslide"
    }
   },
   "source": [
    "**Il progetto**\n",
    "Nato per Python, essenzialmente al servizio della data analisi, Jupyter permette di sviluppare codice in modo dinamico e associarne la documentazione.\n",
    "\n",
    "Essenzialmente si appoggia a un server che esegue il codice e ne restituisce i  risultati."
   ]
  },
  {
   "cell_type": "markdown",
   "metadata": {
    "slideshow": {
     "slide_type": "subslide"
    }
   },
   "source": [
    "**I Notebook**\n",
    "Le \"pagine\" (notebook) di Jupyter sono composti da una serie di celle che possono eseguire del codice o visualizzare della documentazione.\n",
    "\n",
    "Queste celle possono essere eseguite e modificate nell'ordine che si preferisce, prestandosi perfettamente ad applicazioni di analisi dati, prototipazione e, per esempio, training."
   ]
  },
  {
   "cell_type": "markdown",
   "metadata": {
    "slideshow": {
     "slide_type": "subslide"
    }
   },
   "source": [
    "**Linguaggi supportati**\n",
    "Il progretto era partito in Python, ma siccome sui server si può idealmente far girare qualsiasi linguaggio, di fatto si è esteso più o meno a tutti i linguaggi (testuali!)."
   ]
  },
  {
   "cell_type": "markdown",
   "metadata": {
    "slideshow": {
     "slide_type": "subslide"
    }
   },
   "source": [
    "**Uscite**\n",
    "Il formato di base dei fogli è .ipynb, ma si può esportare in diversi altri: .py, .html, .pdf, .tex, etc..."
   ]
  },
  {
   "cell_type": "markdown",
   "metadata": {
    "slideshow": {
     "slide_type": "subslide"
    }
   },
   "source": [
    "**P.S.:** PyCharm gestisce e legge anche questi notebook, nel caso non fosse chiaro che è un figo."
   ]
  },
  {
   "cell_type": "markdown",
   "metadata": {
    "slideshow": {
     "slide_type": "skip"
    }
   },
   "source": [
    "***"
   ]
  },
  {
   "cell_type": "markdown",
   "metadata": {
    "slideshow": {
     "slide_type": "subslide"
    }
   },
   "source": [
    "<a id='jupyter_install'></a>\n",
    "### Installazione\n",
    "Se avete installato Python tramite anaconda, Jupyter è già incluso. Congratulazioni!\n",
    "Per installarlo in un ambiente attivo:\n",
    "\n",
    "    conda install jupyter\n",
    "\n",
    "Altrimenti, si può installare tramite pip:\n",
    "    \n",
    "    pip install jupyter"
   ]
  },
  {
   "cell_type": "markdown",
   "metadata": {
    "slideshow": {
     "slide_type": "skip"
    }
   },
   "source": [
    "***"
   ]
  },
  {
   "cell_type": "markdown",
   "metadata": {
    "slideshow": {
     "slide_type": "subslide"
    }
   },
   "source": [
    "<a id='jupyter_start'></a>\n",
    "### Lancio\n",
    "Una volta installato, lanciare Jupyter è un po' complicato, che è una delle ragioni per cui è così poco diffuso:\n",
    "\n",
    "    jupyter notebook"
   ]
  },
  {
   "cell_type": "markdown",
   "metadata": {
    "slideshow": {
     "slide_type": "skip"
    }
   },
   "source": [
    "***"
   ]
  },
  {
   "cell_type": "markdown",
   "metadata": {
    "slideshow": {
     "slide_type": "subslide"
    }
   },
   "source": [
    "<a id='jupyter_markdown'></a>\n",
    "### Markdown\n",
    "Come detto, le celle di un notebook si distinguono in diversi tipi. \n",
    "\n",
    "Quello principale per scrivere documentazione è il tipo *Markdown*, cioè una cella in cui si può scrivere in un particolare formato, che poi viene abbellito esteticamente una volta lanciato. \n",
    "\n",
    "Per vederne degli esempi basta doppio cliccare una qualsiasi delle celle con del testo."
   ]
  },
  {
   "cell_type": "markdown",
   "metadata": {
    "slideshow": {
     "slide_type": "skip"
    }
   },
   "source": [
    "***"
   ]
  },
  {
   "cell_type": "markdown",
   "metadata": {
    "slideshow": {
     "slide_type": "subslide"
    }
   },
   "source": [
    "<a id='jupyter_code'></a>\n",
    "### Codice\n",
    "La potenza di Jupyter sta nella semplicità e dinamicità nella creazione di celle di codice, che può essere eseguito a piacere.\n",
    "\n",
    "Di seguito qualche esempio."
   ]
  },
  {
   "cell_type": "code",
   "execution_count": null,
   "metadata": {
    "slideshow": {
     "slide_type": "subslide"
    }
   },
   "outputs": [],
   "source": [
    "print(\"Bella Zio!\")"
   ]
  },
  {
   "cell_type": "code",
   "execution_count": null,
   "metadata": {},
   "outputs": [],
   "source": [
    "persone_che_ascoltano = 1"
   ]
  },
  {
   "cell_type": "code",
   "execution_count": null,
   "metadata": {},
   "outputs": [],
   "source": [
    "if persone_che_ascoltano > 0:\n",
    "    print(\"Yeeeee\")\n",
    "else:\n",
    "    print(\"L'ha sempre detto la mamma che dovevo zappare\")"
   ]
  },
  {
   "cell_type": "code",
   "execution_count": null,
   "metadata": {
    "slideshow": {
     "slide_type": "subslide"
    }
   },
   "outputs": [],
   "source": [
    "%matplotlib inline\n",
    "\n",
    "import numpy as np\n",
    "import matplotlib.pyplot as plt\n",
    "\n",
    "x = np.linspace(0, 2*np.pi, 300)\n",
    "y = np.sin(x**2)\n",
    "plt.plot(x, y)\n",
    "plt.title(\"A little chirp\")\n",
    "_ = plt.gcf()"
   ]
  },
  {
   "cell_type": "code",
   "execution_count": null,
   "metadata": {
    "slideshow": {
     "slide_type": "subslide"
    }
   },
   "outputs": [],
   "source": [
    "import plotly.graph_objects as go\n",
    "fig = go.Figure(\n",
    "    data=[go.Bar(y=[2, 1, 3])],\n",
    "    layout_title_text=\"A Figure Displayed with fig.show()\"\n",
    ")\n",
    "fig.show()"
   ]
  },
  {
   "cell_type": "code",
   "execution_count": null,
   "metadata": {
    "slideshow": {
     "slide_type": "subslide"
    }
   },
   "outputs": [],
   "source": [
    "import plotly.express as px\n",
    "iris = px.data.iris()\n",
    "fig = px.scatter(iris, x=\"sepal_width\", y=\"sepal_length\")\n",
    "fig.show()"
   ]
  },
  {
   "cell_type": "markdown",
   "metadata": {
    "slideshow": {
     "slide_type": "skip"
    }
   },
   "source": [
    "***"
   ]
  },
  {
   "cell_type": "markdown",
   "metadata": {
    "slideshow": {
     "slide_type": "slide"
    }
   },
   "source": [
    "<a id='pep8'></a>\n",
    "# Peppotto (PEP8)\n",
    "\n",
    "<img src=\"images/pep8.jpg\" align=\"left\"/>"
   ]
  },
  {
   "cell_type": "markdown",
   "metadata": {
    "slideshow": {
     "slide_type": "subslide"
    }
   },
   "source": [
    "A differenza di altri linguaggi, in cui non esiste un'indicazione centralizzata dello stile da mantenere, in Python tutte le regole riguardanti il formato del codice viene raccolto nella **PEP8**.\n",
    "\n",
    "In generale, le *Python Enachement Proposals* (PEP) raccolgono tutte le feature, regole e filosofie che riguardano Python.\n",
    "Ne esistono diverse centinaia, ma oltre alla PEP8 noi daremo uno sguardo solo alla 20.\n",
    "\n",
    "La [PEP8](https://www.python.org/dev/peps/pep-0008/) stessa è un documento piuttosto lungo che più o meno nessuno conosce interamente. \n",
    "Normalmente sono gli IDE che segnalano (e correggono automaticamente) gli errori di formattazione del codice.\n",
    "\n",
    "Vediamo solo i due più importanti."
   ]
  },
  {
   "cell_type": "markdown",
   "metadata": {
    "slideshow": {
     "slide_type": "skip"
    }
   },
   "source": [
    "***"
   ]
  },
  {
   "cell_type": "markdown",
   "metadata": {
    "slideshow": {
     "slide_type": "subslide"
    }
   },
   "source": [
    "<a id='pep8_imports'></a>\n",
    "### Imports\n",
    "Gli import di diversi pacchetti dovrebbero essere su linee di codice separato:"
   ]
  },
  {
   "cell_type": "code",
   "execution_count": null,
   "metadata": {},
   "outputs": [],
   "source": [
    "# Bene\n",
    "import sys\n",
    "import os\n",
    "# No Bene\n",
    "import sys, os\n",
    "# Bene, perchè è comunque dallo stesso pacchetto\n",
    "from subprocess import Popen, PIPE"
   ]
  },
  {
   "cell_type": "markdown",
   "metadata": {
    "slideshow": {
     "slide_type": "subslide"
    }
   },
   "source": [
    "Gli import dovrebbero sempre essere in testa al file, dopo le stringhe di documentazione del file stesso e andrebbero fatti nel seguente ordine, separando i gruppi con una riga vuota:\n",
    "1. Librerie standard\n",
    "2. Librerie di terze parti\n",
    "3. Librerie personali"
   ]
  },
  {
   "cell_type": "code",
   "execution_count": null,
   "metadata": {},
   "outputs": [],
   "source": [
    "import os\n",
    "import sys\n",
    "from threading import Thread\n",
    "\n",
    "import PyQt5\n",
    "\n",
    "import MyQt\n",
    "from MyWidget import FluoLed"
   ]
  },
  {
   "cell_type": "markdown",
   "metadata": {
    "slideshow": {
     "slide_type": "skip"
    }
   },
   "source": [
    "Ci sono altre regole per la gestione degli import, ma queste sono quelle base."
   ]
  },
  {
   "cell_type": "markdown",
   "metadata": {
    "slideshow": {
     "slide_type": "skip"
    }
   },
   "source": [
    "***"
   ]
  },
  {
   "cell_type": "markdown",
   "metadata": {
    "slideshow": {
     "slide_type": "subslide"
    }
   },
   "source": [
    "<a id='pep8_naming'></a>\n",
    "### Naming\n",
    "La PEP8 fornisce delle linee guida su come andrebbero dati i nomi alle cose in  Python. Basta discussioni su cosa va messo *CamelCase* e cosa in underscore!"
   ]
  },
  {
   "cell_type": "markdown",
   "metadata": {
    "slideshow": {
     "slide_type": "subslide"
    }
   },
   "source": [
    "**Classi**\n",
    "\n",
    "Le classi dovrebbero essere in *CamelCase*."
   ]
  },
  {
   "cell_type": "code",
   "execution_count": null,
   "metadata": {
    "slideshow": {
     "slide_type": "-"
    }
   },
   "outputs": [],
   "source": [
    "class MyBeatifulClass:\n",
    "    pass"
   ]
  },
  {
   "cell_type": "markdown",
   "metadata": {
    "slideshow": {
     "slide_type": "subslide"
    }
   },
   "source": [
    "**Funzioni e Variabili**\n",
    "\n",
    "Funzioni e variabili dovrebbero essere scritte interamente in *lowercase*, con gli underscore come separatori. Questo vale anche per i metodi di classe."
   ]
  },
  {
   "cell_type": "code",
   "execution_count": null,
   "metadata": {
    "code_folding": []
   },
   "outputs": [],
   "source": [
    "def invade_france:\n",
    "    invade_belgium()\n",
    "    result_message = \"France invaded\"\n",
    "    return result_message"
   ]
  },
  {
   "cell_type": "markdown",
   "metadata": {
    "slideshow": {
     "slide_type": "subslide"
    }
   },
   "source": [
    "**Moduli**\n",
    "\n",
    "Moduli e pacchetti dovrebbero avere nomi brevi e interamente *lowercase* eventualmente separati da underscore.\n",
    "\n",
    "Nomi buoni: pollon, my_app, greta_thunberg. <br>\n",
    "Nomi cattivi: TrumpForPresident, DEATHSTAR."
   ]
  },
  {
   "cell_type": "markdown",
   "metadata": {
    "slideshow": {
     "slide_type": "subslide"
    }
   },
   "source": [
    "**Costanti**\n",
    "\n",
    "Come in tanti linguaggi, le costanti sono generalmente scritte in uppercase:\n",
    "PI, GLOBAL_WARMING."
   ]
  },
  {
   "cell_type": "markdown",
   "metadata": {
    "slideshow": {
     "slide_type": "skip"
    }
   },
   "source": [
    "<font color='red'>Attenzione:</font> Esistono altre regole a riguardo, ma generalmente queste sono le entità principali a cui si finisce per dare nomi."
   ]
  },
  {
   "cell_type": "markdown",
   "metadata": {
    "slideshow": {
     "slide_type": "skip"
    }
   },
   "source": [
    "***"
   ]
  },
  {
   "cell_type": "markdown",
   "metadata": {
    "slideshow": {
     "slide_type": "slide"
    }
   },
   "source": [
    "<a id='zen'></a>\n",
    "# The Zen of Python\n",
    "\n",
    "<img src=\"images/python_zen.png\" align=\"left\"/>"
   ]
  },
  {
   "cell_type": "markdown",
   "metadata": {
    "slideshow": {
     "slide_type": "subslide"
    }
   },
   "source": [
    "La **PEP20**, conosciuta per lo più come *Zen of Python*, sono una serie di massime in stile confucio che esprimono la filosofia che si dovrebbe sempre avere in mente programmando in Python.\n",
    "\n",
    "Questo porta anche alla distinzione di uno stile \"pytonico\" da uno non."
   ]
  },
  {
   "cell_type": "code",
   "execution_count": null,
   "metadata": {
    "slideshow": {
     "slide_type": "subslide"
    }
   },
   "outputs": [],
   "source": [
    "import this"
   ]
  },
  {
   "cell_type": "markdown",
   "metadata": {},
   "source": [
    "Noi ne analizzeremo qualcuna per capire cosa si intende."
   ]
  },
  {
   "cell_type": "markdown",
   "metadata": {
    "slideshow": {
     "slide_type": "skip"
    }
   },
   "source": [
    "***"
   ]
  },
  {
   "cell_type": "markdown",
   "metadata": {
    "slideshow": {
     "slide_type": "subslide"
    }
   },
   "source": [
    "<img src=\"images/kiss.png\" style=\"float: right\" width=300/>\n",
    "\n",
    "<a id='zen_3'></a>\n",
    "\n",
    "## Simple is better than complex\n",
    "*Semplice è meglio di complesso*\n",
    "\n",
    "Questa massima è piuttosto chiara e intuitiva ed è riconducibile al classico concetto del **KISS**. "
   ]
  },
  {
   "cell_type": "markdown",
   "metadata": {
    "slideshow": {
     "slide_type": "subslide"
    }
   },
   "source": [
    "È meglio scrivere qualcosa del tipo:"
   ]
  },
  {
   "cell_type": "code",
   "execution_count": null,
   "metadata": {},
   "outputs": [],
   "source": [
    "print(\"Ciao\", \"Pampino\")"
   ]
  },
  {
   "cell_type": "markdown",
   "metadata": {
    "slideshow": {
     "slide_type": "-"
    }
   },
   "source": [
    "piuttosto che:"
   ]
  },
  {
   "cell_type": "code",
   "execution_count": null,
   "metadata": {
    "slideshow": {
     "slide_type": "-"
    }
   },
   "outputs": [],
   "source": [
    "class StringConcatenator:\n",
    "    def __init__(self, first, second):\n",
    "        self.first = first\n",
    "        self.second = second\n",
    "    \n",
    "    def get_concatenated(self):\n",
    "        return \"{first} {second}\".format(first=self.first, second=self.second)\n",
    "    \n",
    "    \n",
    "concatenator = StringConcatenator(\"Ciao\", \"Pampino\")\n",
    "print(concatenator.get_concatenated())"
   ]
  },
  {
   "cell_type": "markdown",
   "metadata": {
    "slideshow": {
     "slide_type": "skip"
    }
   },
   "source": [
    "***"
   ]
  },
  {
   "cell_type": "markdown",
   "metadata": {
    "slideshow": {
     "slide_type": "subslide"
    }
   },
   "source": [
    "<a id='zen_4'></a>\n",
    "## Complex is better than complicated\n",
    "*Complesso è meglio che complicato*\n",
    "\n",
    "Questo può sembrare un po' più oscuro, ma ha anche un impatto maggiore sull'attività quotidiana."
   ]
  },
  {
   "cell_type": "code",
   "execution_count": null,
   "metadata": {},
   "outputs": [],
   "source": [
    "num = 3\n",
    "for i in range(num):\n",
    "    print(\"Bello\")\n",
    "    \n",
    "counter = 0\n",
    "while counter < num:\n",
    "    print(\"Brutto\")\n",
    "    counter += 1"
   ]
  },
  {
   "cell_type": "markdown",
   "metadata": {
    "slideshow": {
     "slide_type": "skip"
    }
   },
   "source": [
    "Il concetto si applica anche, in modo meno ovvio, all'equivalente del *case*:"
   ]
  },
  {
   "cell_type": "code",
   "execution_count": null,
   "metadata": {
    "slideshow": {
     "slide_type": "subslide"
    }
   },
   "outputs": [],
   "source": [
    "def bad_case(label, *args):\n",
    "    if label == \"Apply\":\n",
    "        return print(\"Apply\")\n",
    "    elif label == \"Cancel\":\n",
    "        return print(\"Cancel\")\n",
    "    elif label == \"Ok\":\n",
    "        return print(\"Ok\")\n",
    "    else:\n",
    "        raise ValueError(\"Not Implemented\")\n",
    "\n",
    "def apply(*args):\n",
    "    print(\"Apply\")\n",
    "    \n",
    "def cancel(*args):\n",
    "    print(\"Cancel\")\n",
    "    \n",
    "def ok(*args):\n",
    "    print(\"Ok\")\n",
    "        \n",
    "def good_case(label, *args):\n",
    "    cases = {\n",
    "        \"Apply\": apply,\n",
    "        \"Cancel\": cancel,\n",
    "        \"Ok\": ok\n",
    "    }\n",
    "    \n",
    "    if label in cases:\n",
    "        return cases[label](*args)\n",
    "    \n",
    "    raise ValueError(\"Not Implemented\")        "
   ]
  },
  {
   "cell_type": "markdown",
   "metadata": {
    "slideshow": {
     "slide_type": "skip"
    }
   },
   "source": [
    "Si noti che in questo caso *bad_case* può sembrare un'alternativa più semplice, specialmente finchè le opzioni sono poche, ma sono solo false promesse. "
   ]
  },
  {
   "cell_type": "markdown",
   "metadata": {
    "slideshow": {
     "slide_type": "skip"
    }
   },
   "source": [
    "***"
   ]
  },
  {
   "cell_type": "markdown",
   "metadata": {
    "slideshow": {
     "slide_type": "subslide"
    }
   },
   "source": [
    "<a id='zen_8'></a>\n",
    "## Special cases aren't special enough to break the rules\n",
    "*I casi speciali non sono speciali abbastanza per rompere le regole*\n",
    "\n",
    "* Tutto quello che si scrive dovrebbe essere il più generico possibile. \n",
    "* Si dovrebbe rispettare la regola del *ZOI* (Zero, One or Infinity).\n",
    "* Gli errori dovrebbero essere sempre gestiti tramite eccezioni."
   ]
  },
  {
   "cell_type": "markdown",
   "metadata": {
    "slideshow": {
     "slide_type": "skip"
    }
   },
   "source": [
    "***"
   ]
  },
  {
   "cell_type": "markdown",
   "metadata": {
    "slideshow": {
     "slide_type": "subslide"
    }
   },
   "source": [
    "<a id='zen_9'></a>\n",
    "## Altough practicality beats purity\n",
    "*Benché la praticità vinca sulla purezza*\n",
    "\n",
    "Tutto bello, ma se si ha l'esigenza di rompere una regola, lo si può fare.\n",
    "Ci sono molto esempi di questa coppia di regole.\n",
    "\n",
    "La stessa PEP8 afferma *do not break backwards compatibility just to comply with this PEP!*."
   ]
  },
  {
   "cell_type": "markdown",
   "metadata": {
    "slideshow": {
     "slide_type": "skip"
    }
   },
   "source": [
    "***"
   ]
  },
  {
   "cell_type": "markdown",
   "metadata": {
    "slideshow": {
     "slide_type": "slide"
    }
   },
   "source": [
    "<a id='compactness'></a>\n",
    "# Compattezza, Efficienza, Leggibilità\n",
    "\n",
    "<img src=\"images/efficiency.jpg\" align=\"left\"/>"
   ]
  },
  {
   "cell_type": "markdown",
   "metadata": {
    "slideshow": {
     "slide_type": "subslide"
    }
   },
   "source": [
    "Ora che sappiamo a grandissime linee la filosofia di Python, o quantomeno che ne esiste una, possiamo vedere alcune indicazioni pratiche su come migliorare il proprio codice.\n",
    "\n",
    "Nel migliorare codice Python, bisogna sempre tenere bene in mente che il focus principale dovrebbe sempre essere la sua leggibilità, perchè Python stesso **non** è un linguaggio efficiente.\n",
    "\n",
    "Non che faccia pena... ma non è il suo focus."
   ]
  },
  {
   "cell_type": "markdown",
   "metadata": {
    "slideshow": {
     "slide_type": "skip"
    }
   },
   "source": [
    "***"
   ]
  },
  {
   "cell_type": "markdown",
   "metadata": {
    "slideshow": {
     "slide_type": "slide"
    }
   },
   "source": [
    "<a id='performance'></a>\n",
    "## Misurare le performance\n",
    "Prima cosa che bisogna essere in grado di fare per migliorare il proprio codice, è cercare di capire quale soluzione è più veloce.\n",
    "\n",
    "Ovviamente, esistono trilioni (licenza poetica) di modi per misurare le performance. Concentriamoci su tre. È più pragmatico."
   ]
  },
  {
   "cell_type": "markdown",
   "metadata": {
    "slideshow": {
     "slide_type": "skip"
    }
   },
   "source": [
    "***"
   ]
  },
  {
   "cell_type": "markdown",
   "metadata": {
    "slideshow": {
     "slide_type": "subslide"
    }
   },
   "source": [
    "<a id='time'></a>\n",
    "### time\n",
    "\n",
    "<img src=\"images/time.jpg\" align=\"left\"/>"
   ]
  },
  {
   "cell_type": "markdown",
   "metadata": {
    "slideshow": {
     "slide_type": "skip"
    }
   },
   "source": [
    "Il modo più semplice per avere informazioni temporali di un codice Python è utilizzare il modulo *time*."
   ]
  },
  {
   "cell_type": "markdown",
   "metadata": {
    "slideshow": {
     "slide_type": "subslide"
    }
   },
   "source": [
    "Questi i comandi base:"
   ]
  },
  {
   "cell_type": "code",
   "execution_count": null,
   "metadata": {},
   "outputs": [],
   "source": [
    "import time\n",
    "print(\"time\", time.time(), sep=\"\\n\\t\")\n",
    "print(\"gmtime(time)\", time.gmtime(time.time()), sep=\"\\n\\t\")\n",
    "print(\"ctime(time)\", time.ctime(time.time()), sep=\"\\n\\t\")\n"
   ]
  },
  {
   "cell_type": "markdown",
   "metadata": {
    "slideshow": {
     "slide_type": "subslide"
    }
   },
   "source": [
    "Insomma il modulo time permette di accedere semplicemente al valore di *epoch* corrente, e farci delle elaborazioni base.\n",
    "Per misurare le performance di un pezzo di codice possiamo fare:"
   ]
  },
  {
   "cell_type": "code",
   "execution_count": null,
   "metadata": {},
   "outputs": [],
   "source": [
    "pow_count = 10000\n",
    "\n",
    "def with_pow():\n",
    "    pow_2 = []\n",
    "    for i in range(pow_count):\n",
    "        pow_2.append(pow(i, 2))\n",
    "    return pow_2\n",
    "\n",
    "def with_square():\n",
    "    pow_2 = []\n",
    "    for i in range(pow_count):\n",
    "        pow_2.append(i ** 2)\n",
    "    return pow_2\n",
    "\n",
    "def with_mul():\n",
    "    pow_2 = []\n",
    "    for i in range(pow_count):\n",
    "        pow_2.append(i * i)\n",
    "    return pow_2\n",
    "\n",
    "def with_preallocation():\n",
    "    pow_2 = [0] * pow_count\n",
    "    for i in range(pow_count):\n",
    "        pow_2[i] = i * i\n",
    "    return pow_2\n",
    "\n",
    "def measure_performance(func, name):\n",
    "    begin = time.time()\n",
    "    func()\n",
    "    print(name, time.time() - begin)\n",
    "    \n",
    "measure_performance(with_pow, \"Pow\")\n",
    "measure_performance(with_square, \"Square\")\n",
    "measure_performance(with_mul, \"Mul\")\n",
    "measure_performance(with_preallocation, \"Preallocation\")"
   ]
  },
  {
   "cell_type": "markdown",
   "metadata": {
    "slideshow": {
     "slide_type": "subslide"
    }
   },
   "source": [
    "<font color='red'>Attenzione:</font> Non vi consiglio di usare più di tanto il modulo *time* per la gestione delle date. Date un occhio ai moduli *datetime* e annessi piuttosto, ma questa è un'altra storia..."
   ]
  },
  {
   "cell_type": "markdown",
   "metadata": {
    "slideshow": {
     "slide_type": "skip"
    }
   },
   "source": [
    "***"
   ]
  },
  {
   "cell_type": "markdown",
   "metadata": {
    "slideshow": {
     "slide_type": "subslide"
    }
   },
   "source": [
    "<a id='timeit'></a>\n",
    "### timeit\n",
    "\n",
    "*time* ha una misura delle performance un po' grezza e casereccia. Va bene per delle prove qua e là, ma niente di più. Per di più *time* viene considerevolmente influenzato dallo stato del sistema operativo, rendendo la misura poco ripetibile.\n",
    "\n",
    "**timeit** si usa per misurare ripetutamente *snippet* di codici, rendendo la misura molto più affidabile. "
   ]
  },
  {
   "cell_type": "markdown",
   "metadata": {
    "slideshow": {
     "slide_type": "skip"
    }
   },
   "source": [
    "Vediamo prima un esempio base:"
   ]
  },
  {
   "cell_type": "code",
   "execution_count": null,
   "metadata": {
    "slideshow": {
     "slide_type": "subslide"
    }
   },
   "outputs": [],
   "source": [
    "import timeit\n",
    "repeats = 100000\n",
    "print(timeit.timeit('\"-\".join(str(n) for n in range(100))', number=repeats))\n",
    "print(timeit.timeit('\"-\".join([str(n) for n in range(100)])', number=repeats))\n",
    "print(timeit.timeit('\"-\".join(map(str, range(100)))', number=repeats))"
   ]
  },
  {
   "cell_type": "markdown",
   "metadata": {
    "slideshow": {
     "slide_type": "skip"
    }
   },
   "source": [
    "Ora l'equivalente di ciò che abbiamo fatto sopra:"
   ]
  },
  {
   "cell_type": "code",
   "execution_count": null,
   "metadata": {
    "slideshow": {
     "slide_type": "subslide"
    }
   },
   "outputs": [],
   "source": [
    "repeats = 100\n",
    "print(\"Pow:\", timeit.timeit(stmt=\"with_pow()\", setup=\"from __main__ import with_pow\", number=repeats))\n",
    "print(\"Square:\", timeit.timeit(stmt=\"with_square()\", setup=\"from __main__ import with_square\", number=repeats))\n",
    "print(\"Mul:\", timeit.timeit(stmt=\"with_mul()\", setup=\"from __main__ import with_mul\", number=repeats))\n",
    "print(\"Preallocation:\", timeit.timeit(stmt=\"with_preallocation()\", setup=\"from __main__ import with_preallocation\", number=repeats))\n",
    "# Calls timeit several times\n",
    "print(\"\\nRepeat:\", timeit.repeat(stmt=\"with_preallocation()\", setup=\"from __main__ import with_preallocation\", number=repeats))"
   ]
  },
  {
   "cell_type": "markdown",
   "metadata": {
    "slideshow": {
     "slide_type": "subslide"
    }
   },
   "source": [
    "<font color='red'>Attenzione:</font> *timeit* si può chiamare anche direttamente dalla command line, ma questa è un'altra storia..."
   ]
  },
  {
   "cell_type": "markdown",
   "metadata": {
    "slideshow": {
     "slide_type": "skip"
    }
   },
   "source": [
    "***"
   ]
  },
  {
   "cell_type": "markdown",
   "metadata": {
    "slideshow": {
     "slide_type": "subslide"
    }
   },
   "source": [
    "<a id='profile'></a>\n",
    "### profile\n",
    "\n",
    "I moduli visti finora permettono di misurare la durata dell'esecuzione. Bello, ma come faccio a sapere dov'è che sto perdendo tempo?\n",
    "\n",
    "Il comando profile (anzi cProfile, più performante) permette di raccogliere tutte le statistiche sull'esecuzione di uno script.\n",
    "Il modo più semplice per utilizzarlo è da riga di comando:\n",
    "    \n",
    "    python -m cProfile script_name.py"
   ]
  },
  {
   "cell_type": "markdown",
   "metadata": {
    "slideshow": {
     "slide_type": "subslide"
    }
   },
   "source": [
    "Più difficile usarlo dall'interprete (io lo faccio qui solo per visualizzarlo interattivamente):"
   ]
  },
  {
   "cell_type": "code",
   "execution_count": null,
   "metadata": {},
   "outputs": [],
   "source": [
    "import cProfile, pstats, io\n",
    "pr = cProfile.Profile()\n",
    "pr.enable()\n",
    "for _ in range(100):\n",
    "    with_pow()\n",
    "    with_square()\n",
    "    with_mul()\n",
    "    with_preallocation()\n",
    "    with_list_comprehension()\n",
    "pr.disable()\n",
    "s = io.StringIO()\n",
    "ps = pstats.Stats(pr, stream=s).sort_stats(\"cumulative\")\n",
    "ps.print_stats()\n",
    "print(s.getvalue())"
   ]
  },
  {
   "cell_type": "markdown",
   "metadata": {
    "slideshow": {
     "slide_type": "skip"
    }
   },
   "source": [
    "***"
   ]
  },
  {
   "cell_type": "markdown",
   "metadata": {
    "slideshow": {
     "slide_type": "slide"
    }
   },
   "source": [
    "<a id='ternary'></a>\n",
    "## Operatore Ternario\n",
    "Vediamo ora all'atto pratico qualche metodo per migliorare compattezza, leggibilità e performance.\n",
    "\n",
    "L'operatore ternario permette di esprimere in una sola riga di codice un'assegnazione dipendente da una condizione di if else:\n",
    "\n",
    "    conditioned_value = value_if_true if condition else value_if_false"
   ]
  },
  {
   "cell_type": "markdown",
   "metadata": {
    "slideshow": {
     "slide_type": "subslide"
    }
   },
   "source": [
    "Per esempio:"
   ]
  },
  {
   "cell_type": "code",
   "execution_count": null,
   "metadata": {},
   "outputs": [],
   "source": [
    "gender = \"Elicottero\"\n",
    "if gender == \"M\":\n",
    "    print(\"Benvenuto\")\n",
    "else:\n",
    "    print(\"Benvenuta\")\n",
    "# Equivale a\n",
    "print(\"Benvenuto\" if gender == \"M\" else \"Benvenuta\")"
   ]
  },
  {
   "cell_type": "markdown",
   "metadata": {
    "slideshow": {
     "slide_type": "subslide"
    }
   },
   "source": [
    "Vediamo se c'è differenza di performance:"
   ]
  },
  {
   "cell_type": "code",
   "execution_count": null,
   "metadata": {},
   "outputs": [],
   "source": [
    "setup = \"gender = 'M'\"\n",
    "\n",
    "standard = \"\"\"\\\n",
    "if gender == \"M\":\n",
    "    message = \"Benvenuto\"\n",
    "else:\n",
    "    message = \"Benvenuta\"\n",
    "\"\"\"\n",
    "print(\"Standard:\", timeit.timeit(standard, setup))\n",
    "print(\"Ternary:\", timeit.timeit(\"message = 'Benvenuto' if gender == 'M' else 'Benvenuta'\", setup))"
   ]
  },
  {
   "cell_type": "markdown",
   "metadata": {
    "slideshow": {
     "slide_type": "subslide"
    }
   },
   "source": [
    "La differenza non è ben poco significativa, specialmente considerandone la leggibilità. \n",
    "\n",
    "\n",
    "Questo operatore serve a migliorare **leggibilità e compattezza**."
   ]
  },
  {
   "cell_type": "markdown",
   "metadata": {
    "slideshow": {
     "slide_type": "skip"
    }
   },
   "source": [
    "***"
   ]
  },
  {
   "cell_type": "markdown",
   "metadata": {
    "slideshow": {
     "slide_type": "slide"
    }
   },
   "source": [
    "<a id='comprehension'></a>\n",
    "## Comprehension\n",
    "Le comprehension sono il principale strumento di ottimizzazine nelle mani di un programmatore Python. \n",
    "Velocizzano e compattano mostruosamente il codice in tutto ciò che riguarda la creazione di strutture quali liste e dizionari. \n",
    "\n",
    "Quando usate nel modo corretto rendono il codice ovvio e leggibile, andando incontro a tutto ciò che fa parte dello Zen di Python, rappresentandone un ottimo esempio. \n",
    "Spesso ai neofiti risultano però illeggibili, un po' perchè non sono moltissimi i linguaggi con una sintassi simile e un po' perchè è effettivamente non ovvia. \n",
    "\n",
    "Altrettanto spesso vengono concatenate esageratamente, trasformando centinaia di righe in una sola (bello) illeggibile (brutto brutto) riga di codice."
   ]
  },
  {
   "cell_type": "markdown",
   "metadata": {
    "slideshow": {
     "slide_type": "subslide"
    }
   },
   "source": [
    "**List Comprehension**\n",
    "\n",
    "Vediamo un esempio di *List Comprehension*:"
   ]
  },
  {
   "cell_type": "code",
   "execution_count": null,
   "metadata": {},
   "outputs": [],
   "source": [
    "# Generiamo la tabellina del 3\n",
    "# Con ciclo for\n",
    "tabellina = []\n",
    "for i in range(1, 11):\n",
    "    tabellina.append(3*i)\n",
    "# Con List Comprehension\n",
    "tabellina = [3*i for i in range(1, 11)]"
   ]
  },
  {
   "cell_type": "markdown",
   "metadata": {
    "slideshow": {
     "slide_type": "subslide"
    }
   },
   "source": [
    "Le due scritture sono esattamente equivalenti dal punto di vista del risultato, ma proviamo a confrontare le performance dei due approcci tornando all'esempio di prima (generare i primi n quadrati di un numero):"
   ]
  },
  {
   "cell_type": "code",
   "execution_count": null,
   "metadata": {},
   "outputs": [],
   "source": [
    "def with_preallocation():\n",
    "    pow_2 = [0] * pow_count\n",
    "    for i in range(pow_count):\n",
    "        pow_2[i] = i * i\n",
    "    return pow_2\n",
    "\n",
    "def with_list_comprehension():\n",
    "    return [i * i for i in range(pow_count)]\n",
    "\n",
    "repeats = 1000\n",
    "print(\"Preallocation:\", timeit.timeit(stmt=\"with_preallocation()\", setup=\"from __main__ import with_preallocation\", number=repeats))\n",
    "print(\"List Comprehension:\", timeit.timeit(stmt=\"with_list_comprehension()\", setup=\"from __main__ import with_list_comprehension\", number=repeats))"
   ]
  },
  {
   "cell_type": "markdown",
   "metadata": {
    "slideshow": {
     "slide_type": "subslide"
    }
   },
   "source": [
    "Le List Comprehension sono **sempre più veloci**."
   ]
  },
  {
   "cell_type": "markdown",
   "metadata": {
    "slideshow": {
     "slide_type": "subslide"
    }
   },
   "source": [
    "**Filtri**\n",
    "\n",
    "<img src=\"images/list_comprehensions.gif\" align=\"center\"/>\n",
    "\n",
    "Una delle applicazioni delle list comprehension è la rapida generazione di liste a cui si applica un filtro:"
   ]
  },
  {
   "cell_type": "code",
   "execution_count": null,
   "metadata": {},
   "outputs": [],
   "source": [
    "# Filtriamo solo i numeri pari nella tabellina del 3 \n",
    "print([multiple for multiple in tabellina if not multiple % 2])\n",
    "# Equivale a\n",
    "multiples = []\n",
    "for multiple in tabellina:\n",
    "    if not multiple % 2:\n",
    "        multiples.append(multiple)\n",
    "print(multiples)"
   ]
  },
  {
   "cell_type": "markdown",
   "metadata": {
    "slideshow": {
     "slide_type": "subslide"
    }
   },
   "source": [
    "**Concatenazioni**\n",
    "\n",
    "Le list comprehension si possono concatenare, ma occhio all'ordine e alle parentesi!"
   ]
  },
  {
   "cell_type": "code",
   "execution_count": null,
   "metadata": {
    "slideshow": {
     "slide_type": "subslide"
    }
   },
   "outputs": [],
   "source": [
    "print(\"Concatenated\", [multiple*power for multiple in tabellina if not multiple % 2 for power in with_list_comprehension() if power < 100])\n",
    "# Equivale a\n",
    "values = []\n",
    "for multiple in tabellina:\n",
    "    if not multiple % 2:\n",
    "        for power in with_list_comprehension():\n",
    "            if power < 100:\n",
    "                values.append(multiple*power)\n",
    "# print(values)\n",
    "# E non a \n",
    "for power in with_list_comprehension():\n",
    "    if power < 100:\n",
    "        for multiple in tabellina:\n",
    "            if not multiple % 2:\n",
    "                values.append(multiple*power)\n",
    "# print(values)\n",
    "# Oppure\n",
    "print(\"Nested\", [[multiple*power for multiple in tabellina if not multiple % 2] for power in with_list_comprehension() if power < 100])\n",
    "# Equivale a\n",
    "values = []\n",
    "for power in with_list_comprehension():\n",
    "    if power < 100:\n",
    "        values.append([multiple*power for multiple in tabellina if not multiple % 2])\n",
    "# print(values)"
   ]
  },
  {
   "cell_type": "markdown",
   "metadata": {
    "slideshow": {
     "slide_type": "subslide"
    }
   },
   "source": [
    "Mi sembra piuttosto evidente che si arriva in fretta a produrre codice difficilmente leggibile o quantomeno fraintendibile se non si sta ben attenti..."
   ]
  },
  {
   "cell_type": "markdown",
   "metadata": {
    "slideshow": {
     "slide_type": "subslide"
    }
   },
   "source": [
    "**Dict Comprehension**\n",
    "\n",
    "Con la stessa tecnica si possono anche generare dizionari:"
   ]
  },
  {
   "cell_type": "code",
   "execution_count": null,
   "metadata": {},
   "outputs": [],
   "source": [
    "# Precalcola la tabellina del tre\n",
    "print({i: i*3 for i in range(1, 11)})"
   ]
  },
  {
   "cell_type": "markdown",
   "metadata": {
    "slideshow": {
     "slide_type": "subslide"
    }
   },
   "source": [
    "Ma non addentriamoci oltre nella tana del bianconiglio...\n",
    "\n",
    "<img src=\"images/white_rabbit.jpg\" align=\"center\"/>\n",
    "\n",
    "***"
   ]
  },
  {
   "cell_type": "markdown",
   "metadata": {
    "slideshow": {
     "slide_type": "subslide"
    }
   },
   "source": [
    "#### Esercizio 1: Data una lista di nomi, stamparne l'equivalente in uppercase"
   ]
  },
  {
   "cell_type": "code",
   "execution_count": null,
   "metadata": {},
   "outputs": [],
   "source": [
    "lista_nomi = [\"Piruffo\", \"Mannino\", \"berello\", \"barzio\"]"
   ]
  },
  {
   "cell_type": "markdown",
   "metadata": {
    "slideshow": {
     "slide_type": "subslide"
    }
   },
   "source": [
    "#### Esercizio 2: Data una lista di numeri, stamparne i positivi, come interi"
   ]
  },
  {
   "cell_type": "code",
   "execution_count": null,
   "metadata": {},
   "outputs": [],
   "source": [
    "numeri = [34.6, -203.4, 44.9, 68.3, -12.2, 44.6, 12.7]"
   ]
  },
  {
   "cell_type": "markdown",
   "metadata": {
    "slideshow": {
     "slide_type": "subslide"
    }
   },
   "source": [
    "#### Esercizio 3: Stampa una lista dei primi 1000 anni bisestili (extra: a partire da oggi)"
   ]
  },
  {
   "cell_type": "markdown",
   "metadata": {
    "slideshow": {
     "slide_type": "skip"
    }
   },
   "source": [
    "***"
   ]
  },
  {
   "cell_type": "markdown",
   "metadata": {
    "slideshow": {
     "slide_type": "slide"
    }
   },
   "source": [
    "<a id='mapping'></a>\n",
    "\n",
    "## Mapping\n",
    "\n",
    "Il mapping è una pratica diffusa in tutti i linguaggi di programmazione funzionale, quindi non poteva mancare in Python. \n",
    "Essenzialmente si tratta di applicare un funzione a tutti gli elementi di un iterabile."
   ]
  },
  {
   "cell_type": "markdown",
   "metadata": {
    "slideshow": {
     "slide_type": "subslide"
    }
   },
   "source": [
    "Partiamo con un esempio banale:"
   ]
  },
  {
   "cell_type": "code",
   "execution_count": null,
   "metadata": {},
   "outputs": [],
   "source": [
    "# Trasforma tutte le stringhe in interi\n",
    "values = [\"1\", \"123\", \"2566\"]\n",
    "for integer in map(int, values):\n",
    "    print(type(integer), integer)"
   ]
  },
  {
   "cell_type": "markdown",
   "metadata": {},
   "source": [
    "Questo torna specialmente utile, per esempio, quando si leggono centinaia di righe da un file e bisogna trasformarle in un tipo noto."
   ]
  },
  {
   "cell_type": "markdown",
   "metadata": {
    "slideshow": {
     "slide_type": "subslide"
    }
   },
   "source": [
    "**N.B.:** la funzione *map* non genera una lista, ma un iterabile (un generatore):"
   ]
  },
  {
   "cell_type": "code",
   "execution_count": null,
   "metadata": {},
   "outputs": [],
   "source": [
    "my_map = map(int, values)\n",
    "print(my_map)\n",
    "print(list(my_map))\n",
    "print(list(my_map))"
   ]
  },
  {
   "cell_type": "markdown",
   "metadata": {
    "slideshow": {
     "slide_type": "subslide"
    }
   },
   "source": [
    "Rivediamo la buona vecchia tabellina del 3:"
   ]
  },
  {
   "cell_type": "code",
   "execution_count": null,
   "metadata": {},
   "outputs": [],
   "source": [
    "tabellina = list(map(lambda i: i * 3, range(1, 11)))\n",
    "print(tabellina)"
   ]
  },
  {
   "cell_type": "code",
   "execution_count": null,
   "metadata": {
    "slideshow": {
     "slide_type": "subslide"
    }
   },
   "outputs": [],
   "source": [
    "def comprehension():\n",
    "    # Questa è una generator comprehension, la cosa più simile al mapping \n",
    "    return (int(value) for value in values) \n",
    "\n",
    "def mapping():\n",
    "    return map(int, values)\n",
    "\n",
    "repeats = 1000000\n",
    "print(\"Comprehension:\", timeit.timeit(stmt=\"comprehension()\", setup=\"from __main__ import comprehension\", number=repeats))\n",
    "print(\"Mapping:\", timeit.timeit(stmt=\"mapping()\", setup=\"from __main__ import mapping\", number=repeats))"
   ]
  },
  {
   "cell_type": "markdown",
   "metadata": {
    "slideshow": {
     "slide_type": "subslide"
    }
   },
   "source": [
    "#### Esercizio 1: Data una lista di nomi, stamparne l'equivalente in uppercase (usando il mapping)"
   ]
  },
  {
   "cell_type": "markdown",
   "metadata": {
    "slideshow": {
     "slide_type": "skip"
    }
   },
   "source": [
    "***"
   ]
  },
  {
   "cell_type": "markdown",
   "metadata": {
    "slideshow": {
     "slide_type": "slide"
    }
   },
   "source": [
    "<a id='recursion'></a>\n",
    "\n",
    "## Ricorsione\n",
    "\n",
    "<img src=\"images/recursion.jpg\" width=400 align=\"center\"/>\n",
    "\n",
    "La ricorsione è un'altro dei concetti basilari della programmazione funzionale e, ovviamente, è un costrutto valido in Python."
   ]
  },
  {
   "cell_type": "markdown",
   "metadata": {
    "slideshow": {
     "slide_type": "subslide"
    }
   },
   "source": [
    "Essenzialmente consiste nel realizzare funzioni che chiamino se stesse:"
   ]
  },
  {
   "cell_type": "code",
   "execution_count": null,
   "metadata": {},
   "outputs": [],
   "source": [
    "def factorial_recursive(n):\n",
    "    # Base case: 1! = 1\n",
    "    if n == 1:\n",
    "        return 1\n",
    "\n",
    "    # Recursive case: n! = n * (n-1)!\n",
    "    else:\n",
    "        return n * factorial_recursive(n-1)\n",
    "    \n",
    "print(factorial_recursive(1000))"
   ]
  },
  {
   "cell_type": "markdown",
   "metadata": {
    "slideshow": {
     "slide_type": "subslide"
    }
   },
   "source": [
    "Una delle insidie peggiori della ricorsione è la facilità con cui si può ricadere in ricorsioni infinite. \n",
    "\n",
    "Un po' come nei cicli iterativi, spesso capita dimenticandosi di aggiungere una condizione di uscita:"
   ]
  },
  {
   "cell_type": "code",
   "execution_count": null,
   "metadata": {},
   "outputs": [],
   "source": [
    "def factorial_recursive(n):\n",
    "    return n * factorial_recursive(n-1)\n",
    "    \n",
    "print(factorial_recursive(10))"
   ]
  },
  {
   "cell_type": "markdown",
   "metadata": {
    "slideshow": {
     "slide_type": "subslide"
    }
   },
   "source": [
    "O dimenticandosi un caso limite:"
   ]
  },
  {
   "cell_type": "code",
   "execution_count": null,
   "metadata": {},
   "outputs": [],
   "source": [
    "def factorial_recursive(n):\n",
    "    # Base case: 1! = 1\n",
    "    if n == 1:\n",
    "        return 1\n",
    "\n",
    "    # Recursive case: n! = n * (n-1)!\n",
    "    else:\n",
    "        return n * factorial_recursive(n-1)\n",
    "    \n",
    "print(factorial_recursive(0))"
   ]
  },
  {
   "cell_type": "markdown",
   "metadata": {
    "slideshow": {
     "slide_type": "subslide"
    }
   },
   "source": [
    "(S)Fortunatamente Python ha un limite superiore (modificabile) di profondità di ricorsione oltre il quale genera un errore e si blocca. \n",
    "\n",
    "Ma non basta: la ricorsione in Python è estremamente inefficiente."
   ]
  },
  {
   "cell_type": "code",
   "execution_count": null,
   "metadata": {
    "slideshow": {
     "slide_type": "subslide"
    }
   },
   "outputs": [],
   "source": [
    "def factorial_recursive(n):\n",
    "    # Base case: 1! = 1\n",
    "    if n == 0:\n",
    "        return 1\n",
    "\n",
    "    # Recursive case: n! = n * (n-1)!\n",
    "    else:\n",
    "        return n * factorial_recursive(n-1)\n",
    "\n",
    "def factorial_iterative(n):\n",
    "    factorial = 1\n",
    "    for factor in range(1, n + 1):\n",
    "        factorial *= factor\n",
    "    return factorial\n",
    "\n",
    "repeats = 10000\n",
    "print(\"Recursive:\", timeit.timeit(stmt=\"factorial_recursive(100)\", setup=\"from __main__ import factorial_recursive\", number=repeats))\n",
    "print(\"Iterative:\", timeit.timeit(stmt=\"factorial_iterative(100)\", setup=\"from __main__ import factorial_iterative\", number=repeats))"
   ]
  },
  {
   "cell_type": "markdown",
   "metadata": {
    "slideshow": {
     "slide_type": "subslide"
    }
   },
   "source": [
    "Se vi interessa il motivo, è legato al fatto che Python non applica la cosidetta *tail recursion elimination*.\n",
    "Ma noi saremo più pragmatici.\n",
    "\n",
    "**La ricorsione in Python va evitata quanto più possibile**\n",
    "\n",
    "*...Altough practicality beats purity*: algoritmi ricorsivi possono essere estremamente più semplici dei loro equivalenti iterativi in certi casi. Basta tenerne presenti i limiti dovuti al linguaggio.\n",
    "***"
   ]
  },
  {
   "cell_type": "markdown",
   "metadata": {
    "slideshow": {
     "slide_type": "slide"
    }
   },
   "source": [
    "<a id='advanced_features'></a>\n",
    "\n",
    "# Funzioni avanzate\n",
    "\n",
    "<img src=\"images/advanced_features.jpg\"/>"
   ]
  },
  {
   "cell_type": "markdown",
   "metadata": {
    "slideshow": {
     "slide_type": "skip"
    }
   },
   "source": [
    "Stiamo solo grattando la superficie, ma vediamo qualcuna delle caratteristiche fondamentali, ma più avanzate del linguaggio."
   ]
  },
  {
   "cell_type": "markdown",
   "metadata": {
    "slideshow": {
     "slide_type": "skip"
    }
   },
   "source": [
    "***"
   ]
  },
  {
   "cell_type": "markdown",
   "metadata": {
    "slideshow": {
     "slide_type": "slide"
    }
   },
   "source": [
    "<a id='args'></a>\n",
    "\n",
    "## \\*args e \\**kwargs\n",
    "\n",
    "Partiamo da un esempio:"
   ]
  },
  {
   "cell_type": "code",
   "execution_count": null,
   "metadata": {
    "slideshow": {
     "slide_type": "-"
    }
   },
   "outputs": [],
   "source": [
    "print(\"a\", \"b\", \"c\", \"d\", ...)"
   ]
  },
  {
   "cell_type": "markdown",
   "metadata": {
    "slideshow": {
     "slide_type": "subslide"
    }
   },
   "source": [
    "Come fa la funzione *print* a gestire un numero indefinito di input?\n",
    "\n",
    "In Python un numero indefinito di parametri anonimi si possono passare tramite le liste di argomenti, identificate da un asterisco a precederne il nome. Lo standard prevede di chiamarli * *args*.\n",
    "\n",
    "Allo stesso modo si possono passare dei parametri per nome (*named* o *keyworded*) tramite i dizionari di argomenti, identificati da un doppio asterisco, di solito * \\**kwargs*."
   ]
  },
  {
   "cell_type": "markdown",
   "metadata": {
    "slideshow": {
     "slide_type": "subslide"
    }
   },
   "source": [
    "Proviamo a costruire una funzione che restituisce il prodotto di tutti i suoi argomenti:"
   ]
  },
  {
   "cell_type": "code",
   "execution_count": null,
   "metadata": {},
   "outputs": [],
   "source": [
    "def mul(*values):\n",
    "    # L'approccio migliore sarebbe usare reduce()...\n",
    "    total = 1\n",
    "    for val in values:\n",
    "        total *= val\n",
    "    return total\n",
    "\n",
    "print(mul(1, 2, 323))"
   ]
  },
  {
   "cell_type": "markdown",
   "metadata": {
    "slideshow": {
     "slide_type": "subslide"
    }
   },
   "source": [
    "Possiamo anche passare una lista (o un iterabile in generale) direttamente alla funzione!"
   ]
  },
  {
   "cell_type": "code",
   "execution_count": null,
   "metadata": {},
   "outputs": [],
   "source": [
    "names = [\"Manzo\", \"Parra\", \"Bargiggio\"]\n",
    "print(*names)\n",
    "print(*(i * 3 for i in range(1, 11)))"
   ]
  },
  {
   "cell_type": "markdown",
   "metadata": {
    "slideshow": {
     "slide_type": "subslide"
    }
   },
   "source": [
    "La stessa cosa vale per i kwargs."
   ]
  },
  {
   "cell_type": "code",
   "execution_count": null,
   "metadata": {},
   "outputs": [],
   "source": [
    "def serialize_arguments(**kwargs):\n",
    "    print(\"Nella funzione:\\n\\t\", kwargs)\n",
    "    return \" \".join(\"{key}: {value}\".format(key=key, value=value) for key, value in kwargs.items())\n",
    "\n",
    "print(\"Serializzato:\\n\\t\", serialize_arguments(primo=1, secondo=2, quello_che_mi_pare=None))"
   ]
  },
  {
   "cell_type": "code",
   "execution_count": null,
   "metadata": {
    "slideshow": {
     "slide_type": "subslide"
    }
   },
   "outputs": [],
   "source": [
    "def welcome_message(name, gender, title=None, surname=None):\n",
    "    return \"Benvenut{vocale} {title}{name}{surname}\".format(vocale=\"a\" if gender == \"F\" else \"o\",\n",
    "                                                            title= (title + ' ') if title else '',\n",
    "                                                            name=name,\n",
    "                                                            surname= (' ' + surname + ' ') if surname else '')\n",
    "users = [{\"name\": \"Manzo\", \"gender\": \"M\"},\n",
    "         {\"name\": \"Parra\", \"gender\": \"F\", \"title\": \"Mrs.\", \"surname\": \"Berecchia\"},\n",
    "         {\"name\": \"Bargiggio\", \"gender\": \"M\", \"title\": \"Mr.\"}]\n",
    "print(*(welcome_message(**data) for data in users), sep=\"\\n\")"
   ]
  },
  {
   "cell_type": "markdown",
   "metadata": {
    "slideshow": {
     "slide_type": "subslide"
    }
   },
   "source": [
    "L'utilizzo di questi costrutti risulta fondamentale specialmente in relazione alla programmazione dinamica, ai decoratori o all'ereditarietà.\n",
    "\n",
    "Supponiamo per esempio di voler fare l'override di un metodo che ha una luuuuuuuuuunga lista di argomenti:"
   ]
  },
  {
   "cell_type": "code",
   "execution_count": null,
   "metadata": {},
   "outputs": [],
   "source": [
    "class Base:\n",
    "    def many_args(self, a, b, c, d=1, e=None, f=12):\n",
    "        print(\"I'm doing stuff with\", a, b, c, d, e, f)\n",
    "    \n",
    "class Extend(Base):\n",
    "    def many_args(self, *args, extra_data=123, **kwargs):\n",
    "        print(extra_data)\n",
    "        super(Extend, self).many_args(*args, **kwargs)\n",
    "\n",
    "e = Extend()\n",
    "e.many_args(1, 2, 3, extra_data=\"Pippo\")"
   ]
  },
  {
   "cell_type": "markdown",
   "metadata": {
    "slideshow": {
     "slide_type": "subslide"
    }
   },
   "source": [
    "Diventa però estramente facile cadere nel rendere il codice oscuro:"
   ]
  },
  {
   "cell_type": "code",
   "execution_count": null,
   "metadata": {},
   "outputs": [],
   "source": [
    "class ObscureExtend(Base):\n",
    "    def many_args(self, *args, **kwargs):\n",
    "        extra_data = kwargs.pop(\"extra_data\") if \"extra_data\" in kwargs else 12\n",
    "        print(extra_data)\n",
    "        super(ObscureExtend, self).many_args(*args, **kwargs)\n",
    "o = ObscureExtend()\n",
    "o.many_args(1, 2, 3, extra_data=\"Pippo\")"
   ]
  },
  {
   "cell_type": "markdown",
   "metadata": {
    "slideshow": {
     "slide_type": "skip"
    }
   },
   "source": [
    "Visto dall'esterno il metodo non ha niente di diverso da quello del genitore, ma accetta un argomento extra... No Buono."
   ]
  },
  {
   "cell_type": "markdown",
   "metadata": {
    "slideshow": {
     "slide_type": "subslide"
    }
   },
   "source": [
    "#### Esercizio 1: Scrivere una funzione che dati dei keyword arguments, stampi tutte le coppie chiave-valore su righe diverse nel formato \"{chiave} vale {valore}\""
   ]
  },
  {
   "cell_type": "markdown",
   "metadata": {
    "slideshow": {
     "slide_type": "skip"
    }
   },
   "source": [
    "***"
   ]
  },
  {
   "cell_type": "markdown",
   "metadata": {
    "slideshow": {
     "slide_type": "slide"
    }
   },
   "source": [
    "<a id='error_handling'></a>\n",
    "\n",
    "## Gestione Errori\n",
    "\n",
    "<img src=\"images/error_handling.jpg\"/>"
   ]
  },
  {
   "cell_type": "markdown",
   "metadata": {
    "slideshow": {
     "slide_type": "subslide"
    }
   },
   "source": [
    "\"Tutti\" sanno che uno degli svantaggi di Python sta nel fatto che gli errori possono essere noti soltanto a *runtime*. \n",
    "\n",
    "L'altro lato della medaglia è che questo ha portato a sviluppare uno strumento di gestione errori decisamente completo e personalizzabile basato sulle eccezioni."
   ]
  },
  {
   "cell_type": "markdown",
   "metadata": {
    "slideshow": {
     "slide_type": "subslide"
    }
   },
   "source": [
    "<font color='red'>Attenzione:</font> che a nessuno venga in mente di gestire gli errori in maniera diversa da questa. Le funzioni che restituiscono un codice di errore in caso di fallimento sono generalmente vietate."
   ]
  },
  {
   "cell_type": "markdown",
   "metadata": {
    "slideshow": {
     "slide_type": "subslide"
    }
   },
   "source": [
    "<font color='red' style=\"font-weight:bold\">ATTENZIONE:</font> La sintassi per la gestione delle eccezioni è cambiata tra Python 2 e 3. Quella riportata qui è cross-version."
   ]
  },
  {
   "cell_type": "markdown",
   "metadata": {
    "slideshow": {
     "slide_type": "skip"
    }
   },
   "source": [
    "***"
   ]
  },
  {
   "cell_type": "markdown",
   "metadata": {
    "slideshow": {
     "slide_type": "subslide"
    }
   },
   "source": [
    "<a id='exception'></a>\n",
    "\n",
    "### Eccezione? E che roba è?\n",
    "\n",
    "<img src=\"images/exceptions.jpg\"/>"
   ]
  },
  {
   "cell_type": "markdown",
   "metadata": {
    "slideshow": {
     "slide_type": "subslide"
    }
   },
   "source": [
    "Ormai state vedendo Python da qualche ora, sicuramente avete visto qualcosa del tipo:"
   ]
  },
  {
   "cell_type": "code",
   "execution_count": null,
   "metadata": {},
   "outputs": [],
   "source": [
    "None + 5"
   ]
  },
  {
   "cell_type": "markdown",
   "metadata": {
    "slideshow": {
     "slide_type": "subslide"
    }
   },
   "source": [
    "L'output di un codice di errore è composto da diverse parti. \n",
    "\n",
    "Per primissima cosa il **tipo** di eccezione. Le eccezioni non sono altro che classi di errori.\n",
    "\n",
    "Viene poi visualizzato il **traceback**, cioè l'elenco di chiamate che hanno portato all'eccezione (si noti che in caso di programmazione dinamica potrebbe essere ben poco chiaro, perchè fa riferimento alla riga di codice).\n",
    "\n",
    "Infine viene visualizzato il **messaggio** di errore, che di solito contiene un buon numero di dettagli su cosa ha causato l'eccezione. In questo caso, è piuttosto chiaro che non è possibile fare la somma di None con 5."
   ]
  },
  {
   "cell_type": "markdown",
   "metadata": {
    "slideshow": {
     "slide_type": "subslide"
    }
   },
   "source": [
    "Dicendo che le eccezioni sono classi di errori, intendo precisamente che sono classi (d'altronde tutto è un oggetto in Python). Ciò che hanno tutte in comune è che ereditano dalla classe Exception.\n",
    "\n",
    "Nulla vieta quindi di crearne di proprie:"
   ]
  },
  {
   "cell_type": "code",
   "execution_count": null,
   "metadata": {},
   "outputs": [],
   "source": [
    "class PizzaError(Exception):\n",
    "    pass"
   ]
  },
  {
   "cell_type": "markdown",
   "metadata": {
    "slideshow": {
     "slide_type": "subslide"
    }
   },
   "source": [
    "Tra poco vedremo perchè una si potrebbe volerlo fare, ma prima diamo un occhio alle principali eccezioni.\n",
    "<img src=\"images/exception_tree.png\"/>"
   ]
  },
  {
   "cell_type": "code",
   "execution_count": null,
   "metadata": {
    "slideshow": {
     "slide_type": "skip"
    }
   },
   "outputs": [],
   "source": [
    "my_list = []\n",
    "my_list[0]"
   ]
  },
  {
   "cell_type": "code",
   "execution_count": null,
   "metadata": {
    "slideshow": {
     "slide_type": "skip"
    }
   },
   "outputs": [],
   "source": [
    "my_dict = {}\n",
    "my_dict[\"any\"]"
   ]
  },
  {
   "cell_type": "code",
   "execution_count": null,
   "metadata": {
    "slideshow": {
     "slide_type": "skip"
    }
   },
   "outputs": [],
   "source": [
    "class MyClass:\n",
    "    pass\n",
    "\n",
    "print(MyClass.not_existing)"
   ]
  },
  {
   "cell_type": "code",
   "execution_count": null,
   "metadata": {
    "slideshow": {
     "slide_type": "skip"
    }
   },
   "outputs": [],
   "source": [
    "1/0"
   ]
  },
  {
   "cell_type": "code",
   "execution_count": null,
   "metadata": {
    "slideshow": {
     "slide_type": "skip"
    }
   },
   "outputs": [],
   "source": [
    "print(ajeje_braso)"
   ]
  },
  {
   "cell_type": "code",
   "execution_count": null,
   "metadata": {
    "slideshow": {
     "slide_type": "skip"
    }
   },
   "outputs": [],
   "source": [
    "int(\"Gianni\")"
   ]
  },
  {
   "cell_type": "markdown",
   "metadata": {
    "slideshow": {
     "slide_type": "subslide"
    }
   },
   "source": [
    "<a id='raise'></a>\n",
    "\n",
    "### raise\n",
    "Supponete di voler generare un allarme nel momento in cui qualcuno ordina una pizza e tra gli ingredienti c'è l'ananas.\n",
    "\n",
    "Noi ci siamo creati la nostra bella eccezione per le pizze, ma come facciamo a trasmetterla?"
   ]
  },
  {
   "cell_type": "code",
   "execution_count": null,
   "metadata": {},
   "outputs": [],
   "source": [
    "def make_pizza(*ingredients):\n",
    "    if \"ananas\" in ingredients:\n",
    "        raise PizzaError\n",
    "        \n",
    "make_pizza(\"pomodoro\", \"mozzarella\", \"ananas\")"
   ]
  },
  {
   "cell_type": "markdown",
   "metadata": {
    "slideshow": {
     "slide_type": "subslide"
    }
   },
   "source": [
    "Bene, ma la descrizione dell'errore è un po' povera. Per aggiungerla basta allegare il messaggio nel momento in cui viene generata l'eccezione."
   ]
  },
  {
   "cell_type": "code",
   "execution_count": null,
   "metadata": {},
   "outputs": [],
   "source": [
    "def make_pizza(*ingredients):\n",
    "    if \"ananas\" in ingredients:\n",
    "        raise PizzaError(\"Mamma mia! L'ananassi sulla pizza!\")\n",
    "        \n",
    "make_pizza(\"pomodoro\", \"mozzarella\", \"ananas\")"
   ]
  },
  {
   "cell_type": "markdown",
   "metadata": {
    "slideshow": {
     "slide_type": "subslide"
    }
   },
   "source": [
    "<a id='except'></a>\n",
    "\n",
    "### except\n",
    "Bene, il nostro codice sa generare errori, ma come si reagisce?\n",
    "\n",
    "Il blocco di controllo *try...except* permette di intercettare gli errori e reagire nel modo che si preferisce."
   ]
  },
  {
   "cell_type": "code",
   "execution_count": null,
   "metadata": {},
   "outputs": [],
   "source": [
    "try:\n",
    "    print(\"This will raise an error\")\n",
    "    make_pizza(\"pomodoro\", \"mozzarella\", \"ananas\")\n",
    "except:\n",
    "    print(\"Yep...\\n\\t it did\")"
   ]
  },
  {
   "cell_type": "markdown",
   "metadata": {
    "slideshow": {
     "slide_type": "subslide"
    }
   },
   "source": [
    "Bellino, ma che tipo di errore ho catturato? Qual era la causa? E se volessi loggarlo o almeno lanciare un messaggio di avvertimento?"
   ]
  },
  {
   "cell_type": "code",
   "execution_count": null,
   "metadata": {},
   "outputs": [],
   "source": [
    "# Filtrare uno specifico errore\n",
    "try:\n",
    "    make_pizza(\"pomodoro\", \"mozzarella\", \"ananas\")\n",
    "except PizzaError:\n",
    "    print(\"Errore di Pizza!\")"
   ]
  },
  {
   "cell_type": "code",
   "execution_count": null,
   "metadata": {},
   "outputs": [],
   "source": [
    "# Riportare il messaggio\n",
    "try:\n",
    "    make_pizza(\"pomodoro\", \"mozzarella\", \"ananas\")\n",
    "except Exception as e:  # Si noti che tutte una classe genitore cattura tutte le figlie\n",
    "    print(\"Errore:\", e)\n",
    "    print(\"Exception Type:\", type(e))"
   ]
  },
  {
   "cell_type": "code",
   "execution_count": null,
   "metadata": {},
   "outputs": [],
   "source": [
    "# Filtrare e riportare\n",
    "try:\n",
    "    make_pizza(\"pomodoro\", \"mozzarella\", \"ananas\")\n",
    "except PizzaError as e:\n",
    "    print(\"Errore di Pizza:\", e)\n",
    "    raise e"
   ]
  },
  {
   "cell_type": "markdown",
   "metadata": {
    "slideshow": {
     "slide_type": "subslide"
    }
   },
   "source": [
    "La parola chiave \"as\" salva l'errore catturato (la classe dell'eccezione) nella variabile associata (\"e\" in questo caso, un nome abbastanza standard). Si noti che la rappresentazione in formato stringa di e è il suo messaggio, ma la classe contiene anche altre informazioni. "
   ]
  },
  {
   "cell_type": "code",
   "execution_count": null,
   "metadata": {},
   "outputs": [],
   "source": [
    "try:\n",
    "    raise ValueError(\"Meh\", \"Incredibile\")\n",
    "except Exception as e:\n",
    "    print(e)\n",
    "    print(type(e), e.args, e.__traceback__)"
   ]
  },
  {
   "cell_type": "markdown",
   "metadata": {
    "slideshow": {
     "slide_type": "subslide"
    }
   },
   "source": [
    "È anche possibile catturare più errori specifici in un singolo blocco o in diversi."
   ]
  },
  {
   "cell_type": "code",
   "execution_count": null,
   "metadata": {},
   "outputs": [],
   "source": [
    "# Double\n",
    "try:\n",
    "    a = 1/0\n",
    "    make_pizza(\"pomodoro\", \"mozzarella\", \"ananas\")\n",
    "except (PizzaError, ZeroDivisionError) as e:\n",
    "    print(\"Errore di Pizza:\", e)\n",
    "# Split\n",
    "try:\n",
    "    a = 1/0\n",
    "    make_pizza(\"pomodoro\", \"mozzarella\", \"ananas\")\n",
    "except PizzaError as e:\n",
    "    print(\"Errore di Pizza:\", e)\n",
    "except ZeroDivisionError:\n",
    "    print(\"Come sei finito a dividere per zero facendo una pizza?\")"
   ]
  },
  {
   "cell_type": "markdown",
   "metadata": {
    "slideshow": {
     "slide_type": "subslide"
    }
   },
   "source": [
    "E anche lanciare warning:"
   ]
  },
  {
   "cell_type": "code",
   "execution_count": null,
   "metadata": {},
   "outputs": [],
   "source": [
    "def tolerant_pizza(*ingredients):\n",
    "    if \"ananas\" in ingredients:\n",
    "        raise Warning(\"Io la faccio, ma non voglio saperne niente...\")\n",
    "\n",
    "tolerant_pizza(\"pomodoro\", \"mozzarella\", \"ananas\")\n",
    "print(\"Ma qui non ci arrivo comunque\")"
   ]
  },
  {
   "cell_type": "markdown",
   "metadata": {
    "slideshow": {
     "slide_type": "skip"
    }
   },
   "source": [
    "***"
   ]
  },
  {
   "cell_type": "markdown",
   "metadata": {
    "slideshow": {
     "slide_type": "subslide"
    }
   },
   "source": [
    "#### Esercizio 1: Scrivere una funzione che dato un dizionario che ha come chiave il nome di un cliente e come valore una lista di ingredienti, stampi per ciascuno se la pizza è pronta o l'eventuale errore. \n",
    "Gli errori possibili dovrebbero essere che nella pizza ci siano ingredienti non permessi, che siano esauriti o che non siano disponibili. Questi tre errori dovrebbero essere tutti di tipo diverso."
   ]
  },
  {
   "cell_type": "markdown",
   "metadata": {
    "slideshow": {
     "slide_type": "skip"
    }
   },
   "source": [
    "***"
   ]
  },
  {
   "cell_type": "markdown",
   "metadata": {
    "slideshow": {
     "slide_type": "subslide"
    }
   },
   "source": [
    "<a id='else'></a>\n",
    "\n",
    "### else\n",
    "Che fare se voglio eseguire un blocco di codice solo quando so che non ci sono stati problemi?\n",
    "\n",
    "Beh, di per sé tutto viene eseguito finché non ci sono eccezioni, ma lo stile più pitonico è"
   ]
  },
  {
   "cell_type": "code",
   "execution_count": null,
   "metadata": {},
   "outputs": [],
   "source": [
    "try:\n",
    "    make_pizza(\"mozzarella\", \"panchine\")\n",
    "except PizzaError as e:\n",
    "    print(e)\n",
    "else:\n",
    "    print(\"Pizza Fatta\")"
   ]
  },
  {
   "cell_type": "markdown",
   "metadata": {},
   "source": [
    "per due motivi:\n",
    "1. è chiaro dove ci si aspetta di vedere un eccezione e dove no\n",
    "2. è chiaro cosa succede in caso di successo"
   ]
  },
  {
   "cell_type": "markdown",
   "metadata": {
    "slideshow": {
     "slide_type": "subslide"
    }
   },
   "source": [
    "<a id='finally'></a>\n",
    "\n",
    "### finally\n",
    "Cosa succede se a prescindere da come va l'operazione devo accertarmi di rilasciare un risorsa?"
   ]
  },
  {
   "cell_type": "code",
   "execution_count": null,
   "metadata": {},
   "outputs": [],
   "source": [
    "orders = [] # lista di liste con ingredienti di pizze\n",
    "\n",
    "while pizzeria_is_open:\n",
    "    try:\n",
    "        if orders:\n",
    "            order = orders.pop(0)\n",
    "            if oven_is_off:\n",
    "                turn_on_oven()\n",
    "                wait_temperature()\n",
    "            make_pizza(order)\n",
    "    except PizzaError as e:\n",
    "        print(\"Errore di Pizza:\", e)\n",
    "    finally:\n",
    "        if not orders:\n",
    "            turn_off_oven()\n",
    "print(\"E anche oggi ci siamo portati a casa lo stipendio\")"
   ]
  },
  {
   "cell_type": "markdown",
   "metadata": {
    "slideshow": {
     "slide_type": "subslide"
    }
   },
   "source": [
    "<a id='debug'></a>\n",
    "\n",
    "### Debug\n",
    "Capiterà spesso che non abbiate pensato a qualche eccezione e che il vostro codice si spacchi.\n",
    "Vediamo quindi un paio di metodi per debuggare.\n",
    "\n",
    "Il metodo base per debuggare è utilizzare [pdb (python debugger)](https://docs.python.org/3/library/pdb.html), ma PyCharm offre un'interfaccia decisamente più semplice.\n",
    "\n",
    "Vedi esempio su file *pyzzeria/debug_example.py*."
   ]
  },
  {
   "cell_type": "markdown",
   "metadata": {
    "slideshow": {
     "slide_type": "skip"
    }
   },
   "source": [
    "***"
   ]
  },
  {
   "cell_type": "markdown",
   "metadata": {
    "slideshow": {
     "slide_type": "slide"
    }
   },
   "source": [
    "<a id='decorators'></a>\n",
    "\n",
    "## Decoratori\n",
    "\n",
    "<img src=\"images/decorators.jpg\"/>"
   ]
  },
  {
   "cell_type": "markdown",
   "metadata": {
    "slideshow": {
     "slide_type": "subslide"
    }
   },
   "source": [
    "Per definizione i decoratori sono funzioni che hanno come argomento altre funzioni e che di solito si utilizzano per estenderne il comportamento.\n",
    "\n",
    "Adesso ne vedremo un esempio basilare, ma non ci cureremo troppo dei dettagli di come implementarli, ma piuttosto di alcuni decoratori che tornano utili qua e là."
   ]
  },
  {
   "cell_type": "markdown",
   "metadata": {
    "slideshow": {
     "slide_type": "subslide"
    }
   },
   "source": [
    "**Implementazione**\n",
    "\n",
    "Supponiamo di voler registrare le performance di una funzione. \n",
    "\n",
    "Potremmo farlo come prima"
   ]
  },
  {
   "cell_type": "code",
   "execution_count": null,
   "metadata": {},
   "outputs": [],
   "source": [
    "import time\n",
    "\n",
    "def ancora_sta_tabellina():\n",
    "    return [i * 3 for i in range(1,11)]\n",
    "\n",
    "before = time.time()\n",
    "for i in range(100000):\n",
    "    ancora_sta_tabellina()\n",
    "print(time.time() - before)"
   ]
  },
  {
   "cell_type": "markdown",
   "metadata": {
    "slideshow": {
     "slide_type": "subslide"
    }
   },
   "source": [
    "oppure creado una funzione che faccia la stessa cosa"
   ]
  },
  {
   "cell_type": "code",
   "execution_count": null,
   "metadata": {},
   "outputs": [],
   "source": [
    "# args e kwargs mi servono per passare eventuali argomenti alla funzione interna\n",
    "# Occhio che se repeat facesse parte dei kwargs ci sarebbero problemi...\n",
    "def test_performance(func, *args, repeat=10000, **kwargs):\n",
    "    before = time.time()\n",
    "    for i in range(repeat):\n",
    "        result = func(*args, **kwargs)\n",
    "    print('Function', func.__name__, 'time:', time.time() - before)\n",
    "    return result\n",
    "\n",
    "test_performance(ancora_sta_tabellina)"
   ]
  },
  {
   "cell_type": "markdown",
   "metadata": {
    "slideshow": {
     "slide_type": "subslide"
    }
   },
   "source": [
    "Ma supponiamo che io voglia SEMPRE misurare le performance della funzione (magari per loggarlo).\n",
    "\n",
    "Santi decoratori!"
   ]
  },
  {
   "cell_type": "code",
   "execution_count": null,
   "metadata": {},
   "outputs": [],
   "source": [
    "def performance_decorator(func):\n",
    "    \n",
    "    def timed_function(*args, **kwargs):  # Questa spesso viene chiamata inner\n",
    "        before = time.time()\n",
    "        for i in range(10000):  # Notare la mancanza di repeat\n",
    "            result = func(*args, **kwargs)\n",
    "        print('Function', func.__name__, 'time:', time.time() - before)\n",
    "        return result\n",
    "    \n",
    "    return timed_function\n",
    "\n",
    "@performance_decorator\n",
    "def tabellina_list_comprehension(base, step=1):\n",
    "    return [i * base * step for i in range(1,11)]\n",
    "\n",
    "@performance_decorator\n",
    "def tabellina_generator_comprehension(base, step=1):\n",
    "    return (i * base * step for i in range(1,11))\n",
    "\n",
    "@performance_decorator\n",
    "def tabellina_for(base, step=1):\n",
    "    tabellina = []\n",
    "    for i in range(1, 11):\n",
    "        tabellina.append(i * base * step)\n",
    "    return tabellina\n",
    "\n",
    "\n",
    "print(tabellina_list_comprehension(10))\n",
    "print(tabellina_generator_comprehension(10))\n",
    "print(tabellina_for(10, 2))\n"
   ]
  },
  {
   "cell_type": "markdown",
   "metadata": {
    "slideshow": {
     "slide_type": "subslide"
    }
   },
   "source": [
    "Nessuno vieta di decorare funzioni decorate con altri decoratori.\n",
    "\n",
    "È possibile anche fare decoratori che accettino argomenti (per personalizzare il numero di ripetizioni, per esempio), ma la cosa diventa complessa, perchè la funzione decoratrice dovrebbe restituire una funzione decoratrice che restituisce la funzione decorata...\n",
    "\n",
    "A posto così!"
   ]
  },
  {
   "cell_type": "markdown",
   "metadata": {
    "slideshow": {
     "slide_type": "skip"
    }
   },
   "source": [
    "***"
   ]
  },
  {
   "cell_type": "markdown",
   "metadata": {
    "slideshow": {
     "slide_type": "subslide"
    }
   },
   "source": [
    "**Classmethod**\n",
    "\n",
    "La funzione *built-in* *classmethod* può essere utilizzata efficacemente come decoratore nell'ambito della programmazione a oggetti. Essenzialmente si aspetta una classe come primo argomento implicito."
   ]
  },
  {
   "cell_type": "code",
   "execution_count": null,
   "metadata": {},
   "outputs": [],
   "source": [
    "class Singleton:\n",
    "    __instanciated = False\n",
    "    def __init__(self):\n",
    "        if not Singleton.__instanciated:\n",
    "            # Do things\n",
    "            Singleton.__instanciated = True\n",
    "    \n",
    "    @classmethod\n",
    "    def is_instanciated(cls):  # Notare che di solito si chiama cls, non self\n",
    "        return cls.__instanciated    \n",
    "\n",
    "print(Singleton.is_instanciated())\n",
    "instance = Singleton()\n",
    "print(Singleton.is_instanciated())\n",
    "print(Singleton.__instanciated)"
   ]
  },
  {
   "cell_type": "markdown",
   "metadata": {
    "slideshow": {
     "slide_type": "skip"
    }
   },
   "source": [
    "***"
   ]
  },
  {
   "cell_type": "markdown",
   "metadata": {
    "slideshow": {
     "slide_type": "subslide"
    }
   },
   "source": [
    "**Staticmethod**\n",
    "\n",
    "Similmente *staticmethod* può essere utilizzata efficacemente come decoratore per dichiarare metodi di classe statici, che non necessitano ne della classe ne dell'istanza."
   ]
  },
  {
   "cell_type": "code",
   "execution_count": null,
   "metadata": {},
   "outputs": [],
   "source": [
    "class CommonMath:\n",
    "    @staticmethod\n",
    "    def tabellina(base, step=1):  # Notare che di solito si chiama cls, non self\n",
    "        return (i * base * step for i in range(1, 11))\n",
    "\n",
    "print(list(CommonMath.tabellina(15)))"
   ]
  },
  {
   "cell_type": "markdown",
   "metadata": {
    "slideshow": {
     "slide_type": "skip"
    }
   },
   "source": [
    "***"
   ]
  },
  {
   "cell_type": "markdown",
   "metadata": {
    "slideshow": {
     "slide_type": "subslide"
    }
   },
   "source": [
    "**Property**\n",
    "\n",
    "A mio avviso questo è il più utile: permette di definire delle proprietà di classe accessibili come fossero attributi, ma scatenando effetti collaterali come se piovessero. Da utilizzare con cautela perchè può rendere il codice parecchio oscuro.\n",
    "\n",
    "Si può decidere se fare setter, getter o deleter a seconda delle proprie necessità. \n",
    "\n",
    "(Suggerimento, provate a creare una classe in PyCharm e iniziare a scrivere prop)"
   ]
  },
  {
   "cell_type": "code",
   "execution_count": null,
   "metadata": {},
   "outputs": [],
   "source": [
    "class User:\n",
    "    def __init__(self, name):\n",
    "        self.__username = name\n",
    "    \n",
    "    @property\n",
    "    def username(self):\n",
    "        return self.__username\n",
    "    \n",
    "user = User(\"Trump\")\n",
    "print(user.username)"
   ]
  },
  {
   "cell_type": "code",
   "execution_count": null,
   "metadata": {
    "slideshow": {
     "slide_type": "subslide"
    }
   },
   "outputs": [],
   "source": [
    "class User:\n",
    "    def __init__(self, name):\n",
    "        # Get user data from DB\n",
    "        self.__username = name\n",
    "    \n",
    "    @property\n",
    "    def username(self):\n",
    "        return self.__username\n",
    "    \n",
    "    @username.setter\n",
    "    def username(self, new_name):\n",
    "        # Update DB database\n",
    "        self.__username = new_name\n",
    "        \n",
    "    @username.deleter\n",
    "    def username(self):\n",
    "        # Non mi è venuto nessun motivo buono per cancellare il nome dell'utente... ma avete capito\n",
    "        del self.__username\n",
    "    \n",
    "trump = User(\"Trump\")\n",
    "print(trump.username)\n",
    "trump.username = \"Big Kim\"\n",
    "print(trump.username)"
   ]
  },
  {
   "cell_type": "markdown",
   "metadata": {
    "slideshow": {
     "slide_type": "skip"
    }
   },
   "source": [
    "***"
   ]
  },
  {
   "cell_type": "markdown",
   "metadata": {
    "slideshow": {
     "slide_type": "slide"
    }
   },
   "source": [
    "<a id='essential_packages'></a>\n",
    "# Pacchetti essenziali\n",
    "\n",
    "<img src=\"images/modules.svg\"/>\n",
    "\n",
    "Python ha tanti pacchetti. \n",
    "\n",
    "Una delle ragioni principali del successo che sta raggiungendo questo linguaggio è la quantità sconfinata di librerie a disposizione per qualuncque tipo di applicazione. Cosa che rende impossibile conoscerli tutti, ma vediamo almeno quelli irrinunciabili nello sviluppo della maggior parte delle applicazioni Python."
   ]
  },
  {
   "cell_type": "markdown",
   "metadata": {
    "slideshow": {
     "slide_type": "skip"
    }
   },
   "source": [
    "***"
   ]
  },
  {
   "cell_type": "markdown",
   "metadata": {
    "slideshow": {
     "slide_type": "slide"
    }
   },
   "source": [
    "<a id='logging'></a>\n",
    "# Logging\n",
    "\n",
    "<img src=\"images/logging.jpg\"/>\n",
    "\n",
    "Quando un'applicazione supera le ~20 righe di codice (troppe?) si inizia ad aver bisogno di qualche meccanismo per tracciarne il funzionamento nel tempo. "
   ]
  },
  {
   "cell_type": "markdown",
   "metadata": {
    "slideshow": {
     "slide_type": "subslide"
    }
   },
   "source": [
    "Di solito si finisce con lo sbatterci dentro una serie di *print* incrontrollabile, che non è possibile gestire una volta che si vuole abilitarne solo alcuni, solo in alcuni pezzi, solo per alcuni tipi di informazioni. \n",
    "Bisogna quindi gestire il logging.\n",
    "\n",
    "La comunità di Python, nella sua fantasia sconfinata, ha quindi creato il modulo *logging*, che fa esattamente questo."
   ]
  },
  {
   "cell_type": "code",
   "execution_count": null,
   "metadata": {},
   "outputs": [],
   "source": [
    "import logging\n",
    "\n",
    "logging.warning('This is a warning message')\n",
    "logging.critical('This is a critical message')"
   ]
  },
  {
   "cell_type": "markdown",
   "metadata": {
    "slideshow": {
     "slide_type": "subslide"
    }
   },
   "source": [
    "**Livelli**\n",
    "\n",
    "Logging ha cinque livelli di logging, che si suppone coprano la stragrande maggioranza delle esigenze:\n",
    "* Debug\n",
    "* Info\n",
    "* Warning\n",
    "* Error\n",
    "* Critical\n",
    "\n",
    "Questi corrispondono a dei valori numerici."
   ]
  },
  {
   "cell_type": "code",
   "execution_count": null,
   "metadata": {},
   "outputs": [],
   "source": [
    "print(*[logging.DEBUG, logging.INFO, logging.WARNING, logging.ERROR, logging.CRITICAL, '',logging.NOTSET], sep=\"\\n\")"
   ]
  },
  {
   "cell_type": "markdown",
   "metadata": {},
   "source": [
    "Il che permette, nella pratica, di crearsi livelli personalizzati. Per esempio, ULTRA_DUPER_DEBUG = 1 che stampa il nome di ogni funzione che viene chiamata..."
   ]
  },
  {
   "cell_type": "markdown",
   "metadata": {
    "slideshow": {
     "slide_type": "subslide"
    }
   },
   "source": [
    "**Configurazioni**\n",
    "\n",
    "Per cambiare il livello di logging bisogna gestirne la configurazione"
   ]
  },
  {
   "cell_type": "code",
   "execution_count": null,
   "metadata": {},
   "outputs": [],
   "source": [
    "import logging\n",
    "print(logging.root.level)\n",
    "logging.basicConfig(level=logging.DEBUG)\n",
    "print(logging.root.level)\n",
    "logging.warning(\"Basic Config crea una configurazione per il logger 'root'. Chiamarlo più volte non ha effetti.\")"
   ]
  },
  {
   "cell_type": "markdown",
   "metadata": {
    "slideshow": {
     "slide_type": "subslide"
    }
   },
   "source": [
    "Tra le altre configurazioni possibili ci sono:\n",
    "* Dirottare il log su un file (si può anche decidere in che modalità aprirlo)\n",
    "* Specificare un formato del log. Se visualizzare la data, il nome del logger, l'utente, il tipo di messaggio, ecc...\n",
    "* Dirottare il log su uno stream a piacere (in alternativa al file, per esempio ad un server)\n",
    "* Specificare un \"Handler\"."
   ]
  },
  {
   "cell_type": "markdown",
   "metadata": {
    "slideshow": {
     "slide_type": "subslide"
    }
   },
   "source": [
    "**Classi principali**\n",
    "* **Logger**, la classe base. <br>\n",
    "    Questi oggetti sono quelli che effettivamente si chiamano per loggare un messaggio.<br>\n",
    "    Anche quando si chiama direttamente 'logging', di fatto si sta utilizzando il Logger *root*.\n",
    "        \n",
    "        \n",
    "* **Hanlder** <br>\n",
    "    Il gestore dell'indirizzamento dei messaggi.\n",
    "   \n",
    "    \n",
    "* **Formatter** <br>\n",
    "    Gestisce e centralizza la formattazione dei messaggi."
   ]
  },
  {
   "cell_type": "code",
   "execution_count": null,
   "metadata": {
    "slideshow": {
     "slide_type": "subslide"
    }
   },
   "outputs": [],
   "source": [
    "import logging \n",
    "\n",
    "# Logger\n",
    "pizza_logger = logging.Logger(\"Pizza Logger\")  # Di solito si usa getLogger\n",
    "\n",
    "# Formatter\n",
    "formatter = logging.Formatter('%(asctime)s - %(name)s - %(levelname)s - %(message)s')\n",
    "\n",
    "# Handler\n",
    "chandler = logging.StreamHandler()\n",
    "chandler.setLevel(logging.DEBUG)\n",
    "chandler.setFormatter(formatter)\n",
    "pizza_logger.addHandler(chandler)\n",
    "pizza_logger.debug(\"Set Up Logger\")\n",
    "pizza_logger.info(\"Idle\")\n",
    "print(pizza_logger.handlers)\n"
   ]
  },
  {
   "cell_type": "markdown",
   "metadata": {
    "slideshow": {
     "slide_type": "subslide"
    }
   },
   "source": [
    "Si noti che si possono aggiungere un numero indefinito di handlers a un logger, duplicando di fatto la registrazione del logging, con livelli e impostazioni indipendenti.\n",
    "\n",
    "Gli handler possono anche gestire dei filtri complessi, per esempio loggando solo un intervallo di livelli."
   ]
  },
  {
   "cell_type": "markdown",
   "metadata": {
    "slideshow": {
     "slide_type": "skip"
    }
   },
   "source": [
    "***"
   ]
  },
  {
   "cell_type": "markdown",
   "metadata": {
    "slideshow": {
     "slide_type": "slide"
    }
   },
   "source": [
    "<a id='re'></a>\n",
    "# re\n",
    "\n",
    "<img src=\"images/xkcd_regex.png\"/>"
   ]
  },
  {
   "cell_type": "markdown",
   "metadata": {
    "slideshow": {
     "slide_type": "subslide"
    }
   },
   "source": [
    "Le *regular expression* (o *regex*) sono l'ARMA di qualunque programmatore che debba analizzare una stringa (anche detto parsare...).\n",
    "\n",
    "Queste non sono altro che sequenze di caratteri che definiscono un pattern di ricerca. Uno dei primi lingugaggi ad utilizzare le *regex* è stato *Perl*, ma se ne sono ormai sviluppati diversi dialetti e Python stesso ne ha uno proprio."
   ]
  },
  {
   "cell_type": "markdown",
   "metadata": {
    "slideshow": {
     "slide_type": "subslide"
    }
   },
   "source": [
    "Facciamone un esempio giusto per chiarirne l'utilizzo:"
   ]
  },
  {
   "cell_type": "code",
   "execution_count": null,
   "metadata": {},
   "outputs": [],
   "source": [
    "import re\n",
    "\n",
    "victim_mails = [\"Sì l'appuntamento è in Via Longoturbi 12, Cerbenghio\", \n",
    "                \"Sì grazie, vorrei confermare la prenotazione per l'Hotel Colabrughi in Piazza Melanzane 1, Pustorzio\",\n",
    "                \"Sì mamma, l'ho lavato il gatto.\"]\n",
    "\n",
    "matcher = re.compile(r'(?P<road>(via|viale|piazza)( \\w+)+( \\d+)), (?P<city>(\\w+)+)', re.I)\n",
    "for mail in victim_mails:\n",
    "    match = matcher.search(mail)\n",
    "    if match:\n",
    "        print(match.group(), \"\\n\\tVia:\", match.group('road'), \"\\n\\tCittà:\", match.group('city'))"
   ]
  },
  {
   "cell_type": "markdown",
   "metadata": {
    "slideshow": {
     "slide_type": "subslide"
    }
   },
   "source": [
    "Per poter utilizzare le *regex* in Python occorre il modulo *re*. Non avremo modo di affrontare la sintassi delle regular expression né modulo nella sua interezza. Per approfondire, la risorsa migliore è senza dubbio la [documentazione officiale](https://docs.python.org/3/library/re.html).\n",
    "\n",
    "Per provare, suggerisco dei tool online come [questo](https://regex101.com/).\n",
    "\n",
    "<font color='blue'>Nota:</font> Gli esempi di HTML sono presi dai risultati della ricerca di \"python\" su amazon."
   ]
  },
  {
   "cell_type": "code",
   "execution_count": null,
   "metadata": {},
   "outputs": [],
   "source": [
    "with open(\"files/amazon_python.html\", encoding=\"utf8\") as f:\n",
    "    html_body = f.read()\n",
    "print(html_body)"
   ]
  },
  {
   "cell_type": "markdown",
   "metadata": {
    "slideshow": {
     "slide_type": "subslide"
    }
   },
   "source": [
    "**match**\n",
    "\n",
    "*match* permette di verificare la corrispondenza tra il pattern fornito e la stringa, partendo dall'inizio."
   ]
  },
  {
   "cell_type": "code",
   "execution_count": null,
   "metadata": {},
   "outputs": [],
   "source": [
    "print(re.match(\"pyt\", \"python\"))\n",
    "print(re.match(\"tho\", \"python\"))\n",
    "print(re.match(\"..tho\", \"python\"))"
   ]
  },
  {
   "cell_type": "markdown",
   "metadata": {
    "slideshow": {
     "slide_type": "subslide"
    }
   },
   "source": [
    "Si noti che questa funzione (così come la maggior parte delle funzioni del modulo) restituisce un oggetto *Match* che, oltre a contenere diverse informazioni sul matching, si può usare per valutare la corrispondenza in un if:"
   ]
  },
  {
   "cell_type": "code",
   "execution_count": null,
   "metadata": {
    "slideshow": {
     "slide_type": "-"
    }
   },
   "outputs": [],
   "source": [
    "if re.match(\"pyt\", \"python\"):\n",
    "    print(\"Found\")\n",
    "else:\n",
    "    print(\"Not Found\")"
   ]
  },
  {
   "cell_type": "markdown",
   "metadata": {
    "slideshow": {
     "slide_type": "subslide"
    }
   },
   "source": [
    "**search**\n",
    "\n",
    "Simile a *match* ma esegue la ricerca ovunque."
   ]
  },
  {
   "cell_type": "code",
   "execution_count": null,
   "metadata": {},
   "outputs": [],
   "source": [
    "print(re.search(\"pyt\", \"python\"))\n",
    "print(re.search(\"tho\", \"python\"))\n",
    "print(re.search(\"python\", html_body))\n",
    "print(re.search('class=\".+?\"', html_body))"
   ]
  },
  {
   "cell_type": "markdown",
   "metadata": {
    "slideshow": {
     "slide_type": "subslide"
    }
   },
   "source": [
    "**findall**\n",
    "\n",
    "Restituisce tutte le corrispondenze non sovrapposte sotto forma di lista di stringhe."
   ]
  },
  {
   "cell_type": "code",
   "execution_count": null,
   "metadata": {
    "scrolled": true
   },
   "outputs": [],
   "source": [
    "print(*re.findall('class=\".+?\"', html_body), sep='\\n')"
   ]
  },
  {
   "cell_type": "markdown",
   "metadata": {
    "slideshow": {
     "slide_type": "subslide"
    }
   },
   "source": [
    "**split**\n",
    "\n",
    "Spezza la lista a ciascun match."
   ]
  },
  {
   "cell_type": "code",
   "execution_count": null,
   "metadata": {
    "scrolled": true
   },
   "outputs": [],
   "source": [
    "for index, spanned in enumerate(re.split('<span.*?>|</span>', html_body)):\n",
    "    print(\"Spanned\", index, \"\\n\", spanned)"
   ]
  },
  {
   "cell_type": "markdown",
   "metadata": {
    "slideshow": {
     "slide_type": "subslide"
    }
   },
   "source": [
    "**Groups**\n",
    "\n",
    "Gli oggetti di tipo Match contengono i gruppi di matching. \n",
    "In proposito ci sarebbe molto da dire, ma limitiamoci ad un esempio base."
   ]
  },
  {
   "cell_type": "code",
   "execution_count": null,
   "metadata": {},
   "outputs": [],
   "source": [
    "victim_mails = [\"Sì l'appuntamento è in Via Longoturbi 12, Cerbenghio\", \n",
    "                \"Sì grazie, vorrei confermare la prenotazione per l'Hotel Colabrughi in Piazza Melanzane 1, Pustorzio\",\n",
    "                \"Sì mamma, l'ho lavato il gatto.\"]\n",
    "\n",
    "for mail in victim_mails:\n",
    "    match = re.search(r'((via|viale|piazza) \\w+ \\d+), (\\w+)', mail, re.I)  # re.I lo rende case insensitive\n",
    "    if match:\n",
    "        print(match.group(0))\n",
    "        print(\"\\t\", match.group(1))\n",
    "        print(\"\\t\", match.group(2))\n",
    "        print(\"\\t\", match.group(3))"
   ]
  },
  {
   "cell_type": "markdown",
   "metadata": {
    "slideshow": {
     "slide_type": "subslide"
    }
   },
   "source": [
    "L'utilizzo dei gruppi in findall porta a restituire una tupla contenente i gruppi trovati."
   ]
  },
  {
   "cell_type": "code",
   "execution_count": null,
   "metadata": {},
   "outputs": [],
   "source": [
    "re.findall('abc(de)fg(123)', 'abcdefg123 and again abcdefg123')"
   ]
  },
  {
   "cell_type": "markdown",
   "metadata": {
    "slideshow": {
     "slide_type": "subslide"
    }
   },
   "source": [
    " Che permette di creare ricerche efficienti quanto utili:"
   ]
  },
  {
   "cell_type": "code",
   "execution_count": null,
   "metadata": {
    "scrolled": true
   },
   "outputs": [],
   "source": [
    "print(*re.findall('<a class=\"attribute-value\">a-size-medium a-color-base a-text-normal</a>.+?<span>(.+?)</span><span>', html_body), sep='\\n')"
   ]
  },
  {
   "cell_type": "markdown",
   "metadata": {
    "slideshow": {
     "slide_type": "skip"
    }
   },
   "source": [
    "***"
   ]
  },
  {
   "cell_type": "markdown",
   "metadata": {
    "slideshow": {
     "slide_type": "slide"
    }
   },
   "source": [
    "<a id='itertools'></a>\n",
    "# itertools\n",
    "\n",
    "<img src=\"images/real_itertools.jpg\"/>"
   ]
  },
  {
   "cell_type": "markdown",
   "metadata": {
    "slideshow": {
     "slide_type": "subslide"
    }
   },
   "source": [
    "Una libreria standard fondamentale quando si ha bisogno di generare iterabili standard. Niente di complesso, semplicemente comodo e veloce.\n",
    "\n",
    "Al solito, suggerisco di dare uno sguardo alla [documentazione officiale](https://docs.python.org/3/library/itertools.html) perchè noi vedremo solo alcune delle funzioni della libreria, giusto per dare un'idea del suo contenuto. "
   ]
  },
  {
   "cell_type": "markdown",
   "metadata": {
    "slideshow": {
     "slide_type": "subslide"
    }
   },
   "source": [
    "**count**\n",
    "\n",
    "Cominciamo con qualcosa di facile: contare."
   ]
  },
  {
   "cell_type": "code",
   "execution_count": null,
   "metadata": {},
   "outputs": [],
   "source": [
    "import itertools\n",
    "\n",
    "for value in itertools.count(5, 0.2):\n",
    "    print(value)\n",
    "    if value > 7:\n",
    "        break"
   ]
  },
  {
   "cell_type": "markdown",
   "metadata": {
    "slideshow": {
     "slide_type": "subslide"
    }
   },
   "source": [
    "<font color='red'>Attenzione:</font> Itertools produce generatori, il che vuol dire che il dato non esiste (e non occupa memoria) finchè non viene esplicitamente richiesto."
   ]
  },
  {
   "cell_type": "markdown",
   "metadata": {
    "slideshow": {
     "slide_type": "subslide"
    }
   },
   "source": [
    "**Iteratori Combinatori**\n",
    "\n",
    "Itertools contiente diverse funzioni per generare combinazioni. \n",
    "Per generare tutti i possibili terni del lotto per esempio:"
   ]
  },
  {
   "cell_type": "code",
   "execution_count": null,
   "metadata": {
    "scrolled": true
   },
   "outputs": [],
   "source": [
    "combination = list(itertools.combinations(range(1,91), 3))\n",
    "print(len(combination))\n",
    "print(*combination, sep='\\n')"
   ]
  },
  {
   "cell_type": "markdown",
   "metadata": {
    "slideshow": {
     "slide_type": "subslide"
    }
   },
   "source": [
    "O le possibili configurazioni di Mastermind, con 4 biglie e 6 colori:"
   ]
  },
  {
   "cell_type": "code",
   "execution_count": null,
   "metadata": {},
   "outputs": [],
   "source": [
    "for configuration in itertools.permutations([\"Yellow\", \"Red\", \"White\", \"Blue\", \"Green\", \"Black\"], 4):\n",
    "    print(configuration)"
   ]
  },
  {
   "cell_type": "markdown",
   "metadata": {
    "slideshow": {
     "slide_type": "subslide"
    }
   },
   "source": [
    "O un semplice prodotto di due (o più) liste, quello che fareste con due loop annidati, per esempio per battaglia navale tridimensionale:"
   ]
  },
  {
   "cell_type": "code",
   "execution_count": null,
   "metadata": {},
   "outputs": [],
   "source": [
    "for coordinate in itertools.product(\"ABCDEF\", [1, 2, 3, 4, 5, 6], [\"Alpha\", \"Beta\", \"Gamma\"]):\n",
    "    print(coordinate)"
   ]
  },
  {
   "cell_type": "markdown",
   "metadata": {
    "slideshow": {
     "slide_type": "subslide"
    }
   },
   "source": [
    "**cycle**\n",
    "\n",
    "Semplicemente continua a ciclare su iterabile."
   ]
  },
  {
   "cell_type": "code",
   "execution_count": null,
   "metadata": {},
   "outputs": [],
   "source": [
    "mesi = itertools.cycle([\"Gennaio\", \"Febbraio\", \"Marzo\", \"...\"])\n",
    "for _ in range(13):\n",
    "    print(next(mesi))"
   ]
  },
  {
   "cell_type": "markdown",
   "metadata": {
    "slideshow": {
     "slide_type": "subslide"
    }
   },
   "source": [
    "**chain**\n",
    "\n",
    "Concatena iterabili."
   ]
  },
  {
   "cell_type": "code",
   "execution_count": null,
   "metadata": {},
   "outputs": [],
   "source": [
    "print(list(itertools.chain([1, 2, 3], [\"Quattro\", \"Cinque\"])))"
   ]
  },
  {
   "cell_type": "markdown",
   "metadata": {
    "slideshow": {
     "slide_type": "skip"
    }
   },
   "source": [
    "***"
   ]
  },
  {
   "cell_type": "markdown",
   "metadata": {
    "slideshow": {
     "slide_type": "slide"
    }
   },
   "source": [
    "<a id='data_analysis'></a>\n",
    "# Basi di data analisi\n",
    "\n",
    "<img src=\"images/data_analysis.jpg\"/>"
   ]
  },
  {
   "cell_type": "markdown",
   "metadata": {
    "slideshow": {
     "slide_type": "subslide"
    }
   },
   "source": [
    "La data analisi è una delle maggiori applicazioni di Python, per due motivi:\n",
    "* Parsare un file in Python è estremamente facile\n",
    "* Le librerie numpy e pandas\n",
    "\n",
    "Ma cos'è la data analisi? Di fatto, è l'estrazione di informazioni utili da gruppi di dati. Estrazione fatta in maniera analitica, cioè basata su principi di statistica. Lo scopo è tendenzialmente quello di prendere delle decisioni sulla base di queste informazioni. "
   ]
  },
  {
   "cell_type": "markdown",
   "metadata": {
    "slideshow": {
     "slide_type": "skip"
    }
   },
   "source": [
    "***"
   ]
  },
  {
   "cell_type": "markdown",
   "metadata": {
    "slideshow": {
     "slide_type": "slide"
    }
   },
   "source": [
    "<a id='file_handling'></a>\n",
    "## Gestione File\n",
    "La prima cosa da fare per poter analizzare dei dati, è leggerli.\n",
    "\n",
    "I dati possono provenire da svariate fonti (database, stdin, stream, ecc...), ma nella maggior parte dei casi provengono da dei file. \n",
    "\n",
    "La base per aprire e leggere un file in Python è:"
   ]
  },
  {
   "cell_type": "code",
   "execution_count": null,
   "metadata": {
    "scrolled": true
   },
   "outputs": [],
   "source": [
    "file = open(\"files/Data Analisi/SimpleData.txt\", \"r\")\n",
    "print(file.read())\n",
    "file.close()"
   ]
  },
  {
   "cell_type": "markdown",
   "metadata": {},
   "source": [
    "Ma non è il metodo migliore.\n",
    "\n",
    "<font color='red'>Attenzione:</font> La modalità di apertura di default è 'r', che permette solo la lettura del file. Per vedere le altre modalità, fate riferimento alla [documentazione ufficiale](https://docs.python.org/3/library/functions.html#open)."
   ]
  },
  {
   "cell_type": "markdown",
   "metadata": {
    "slideshow": {
     "slide_type": "skip"
    }
   },
   "source": [
    "***"
   ]
  },
  {
   "cell_type": "markdown",
   "metadata": {
    "slideshow": {
     "slide_type": "subslide"
    }
   },
   "source": [
    "<a id='with'></a>\n",
    "### With\n",
    "*With* è uno statement che essenzialmente permette di eseguire del codice come se ci fosse un *finally*:"
   ]
  },
  {
   "cell_type": "code",
   "execution_count": null,
   "metadata": {},
   "outputs": [],
   "source": [
    "# Without with \n",
    "file = open('files/Data Analisi/SimpleData.txt') \n",
    "try: \n",
    "    file.read() \n",
    "finally: \n",
    "    file.close() \n",
    "    \n",
    "# With with\n",
    "with open('files/Data Analisi/SimpleData.txt') as file: \n",
    "    file.read() "
   ]
  },
  {
   "cell_type": "markdown",
   "metadata": {
    "slideshow": {
     "slide_type": "subslide"
    }
   },
   "source": [
    "Capita anche troppo spesso di dimenticarsi di chiudere un file al momento opportuno, quindi questa è la metodologia raccomandata per aprirlo.\n",
    "\n",
    "Vediamo un esempio di come si potrebbe parsare il file di esempio. \n",
    "La prima riga contiene il numero delle righe restanti che a loro volta contengono una lista di valori (non curiamoci del loro significato)."
   ]
  },
  {
   "cell_type": "code",
   "execution_count": null,
   "metadata": {},
   "outputs": [],
   "source": [
    "with open(\"files/Data Analisi/SimpleData.txt\") as f:\n",
    "    row_number = int(f.readline())\n",
    "    for _ in range(row_number):\n",
    "        print(list(map(int, f.readline().split())))\n"
   ]
  },
  {
   "cell_type": "markdown",
   "metadata": {
    "slideshow": {
     "slide_type": "skip"
    }
   },
   "source": [
    "***"
   ]
  },
  {
   "cell_type": "markdown",
   "metadata": {
    "slideshow": {
     "slide_type": "subslide"
    }
   },
   "source": [
    "<a id='csv'></a>\n",
    "### Load data from CSV\n",
    "Uno dei formati più popolari per il salvataggio dei dati è il csv. \n",
    "\n",
    "Se usassimo la stessa metodologia per leggerne i dati otterremmo: "
   ]
  },
  {
   "cell_type": "code",
   "execution_count": null,
   "metadata": {},
   "outputs": [],
   "source": [
    "with open('files/Data Analisi/enrollments.csv') as file: \n",
    "    print(file.read())"
   ]
  },
  {
   "cell_type": "markdown",
   "metadata": {
    "slideshow": {
     "slide_type": "subslide"
    }
   },
   "source": [
    "Potremmo certamente parsare i dati per renderli più leggibili, ma ovviamente qualcuno l'ha già fatto:"
   ]
  },
  {
   "cell_type": "code",
   "execution_count": null,
   "metadata": {},
   "outputs": [],
   "source": [
    "import unicodecsv\n",
    "\n",
    "with open('files\\Data Analisi\\enrollments.csv', 'rb') as f:\n",
    "    reader = unicodecsv.DictReader(f)\n",
    "    enrollments = list(reader)\n",
    "enrollments"
   ]
  },
  {
   "cell_type": "markdown",
   "metadata": {},
   "source": [
    "Che è molto più fruibile."
   ]
  },
  {
   "cell_type": "markdown",
   "metadata": {
    "slideshow": {
     "slide_type": "skip"
    }
   },
   "source": [
    "***"
   ]
  },
  {
   "cell_type": "markdown",
   "metadata": {
    "slideshow": {
     "slide_type": "subslide"
    }
   },
   "source": [
    "<a id='fixing_types'></a>\n",
    "### Fixing Data Types\n",
    "Dato che dai file si leggono stringhe, tutto ciò che si ottiene sono stringhe, che solitamente male rappresentano i dati, che quindi vanno formattati."
   ]
  },
  {
   "cell_type": "code",
   "execution_count": null,
   "metadata": {
    "scrolled": true
   },
   "outputs": [],
   "source": [
    "from datetime import datetime\n",
    "\n",
    "def parse_date(date):\n",
    "    \"\"\"\n",
    "    Riceve una data in formato stringa e ne restituisce il corrispondente datetime, se esiste.\n",
    "    \"\"\"\n",
    "    if date == '':\n",
    "        return None\n",
    "    else:\n",
    "        return datetime.strptime(date, '%Y-%m-%d')\n",
    "    \n",
    "def parse_maybe_int(i):\n",
    "    \"\"\"\n",
    "    Riceve una stringa e la trasforma in intero, se esiste.\n",
    "    \"\"\"\n",
    "    if i == '':\n",
    "        return None\n",
    "    else:\n",
    "        return int(i)\n",
    "\n",
    "# Pulisce i dati\n",
    "for enrollment in enrollments:\n",
    "    enrollment['cancel_date'] = parse_date(enrollment['cancel_date'])\n",
    "    enrollment['days_to_cancel'] = parse_maybe_int(enrollment['days_to_cancel'])\n",
    "    enrollment['is_canceled'] = enrollment['is_canceled'] == 'True'\n",
    "    enrollment['is_udacity'] = enrollment['is_udacity'] == 'True'\n",
    "    enrollment['join_date'] = parse_date(enrollment['join_date'])\n",
    "    \n",
    "enrollments"
   ]
  },
  {
   "cell_type": "markdown",
   "metadata": {
    "slideshow": {
     "slide_type": "subslide"
    }
   },
   "source": [
    "Una volta puliti i dati se ne possono estrarre informazioni, come i giorni che in media gli utenti impiegano a cancellare l'abbonamento e quanti lo fanno."
   ]
  },
  {
   "cell_type": "code",
   "execution_count": null,
   "metadata": {},
   "outputs": [],
   "source": [
    "total_num = len(enrollments)\n",
    "cancelled = [enrollment for enrollment in enrollments if enrollment[\"status\"] == \"canceled\"]\n",
    "cancelled_num = len(cancelled)\n",
    "print(cancelled_num * 100 / total_num)\n",
    "print(sum(enrollment[\"days_to_cancel\"] for enrollment in cancelled) / cancelled_num)"
   ]
  },
  {
   "cell_type": "markdown",
   "metadata": {
    "slideshow": {
     "slide_type": "skip"
    }
   },
   "source": [
    "***"
   ]
  },
  {
   "cell_type": "markdown",
   "metadata": {
    "slideshow": {
     "slide_type": "slide"
    }
   },
   "source": [
    "<a id='numpy'></a>\n",
    "\n",
    "<img src=\"images/numpy.png\"/>\n",
    "\n",
    "La potenza di *NumPy* sta essenzialmente nel fatto che permette di raggiungere sintassi estremamente semplici per filtrare i dati, una delle cose più faticose nella data analisi. "
   ]
  },
  {
   "cell_type": "markdown",
   "metadata": {
    "slideshow": {
     "slide_type": "subslide"
    }
   },
   "source": [
    "Lo fa definendo un oggetto array che si comporta in modo simile, ma non uguale, alle liste:"
   ]
  },
  {
   "cell_type": "code",
   "execution_count": null,
   "metadata": {
    "scrolled": true
   },
   "outputs": [],
   "source": [
    "import numpy\n",
    "\n",
    "my_array = numpy.array([1, 2, 3])\n",
    "my_matrix = numpy.array([[1, 2, 3], [\"A\", \"B\", \"C\"]])\n",
    "print(\"Qui tutto uguale\")\n",
    "print(my_array)\n",
    "print(my_array[0])\n",
    "print(my_array[1:])\n",
    "print(my_matrix[0, 0])\n",
    "\n",
    "print(\"Da qui cambia qualcosa\")\n",
    "print(my_array.shape)\n",
    "print(my_matrix)\n",
    "print(my_matrix.shape)"
   ]
  },
  {
   "cell_type": "markdown",
   "metadata": {
    "slideshow": {
     "slide_type": "subslide"
    }
   },
   "source": [
    "Numpy contiene una mostruosità di metodi per generare dati, cambiargli forma e analizzarli, ma la sua feature vincente è la possibilità di indicizzare i dati con dei booleani:"
   ]
  },
  {
   "cell_type": "code",
   "execution_count": null,
   "metadata": {},
   "outputs": [],
   "source": [
    "print(\"Genera un array di 10 valori\")\n",
    "array = numpy.arange(10)\n",
    "print(array)"
   ]
  },
  {
   "cell_type": "code",
   "execution_count": null,
   "metadata": {},
   "outputs": [],
   "source": [
    "print(\"Gli cambia forma\")\n",
    "array = array.reshape(2, 5)\n",
    "print(array)"
   ]
  },
  {
   "cell_type": "code",
   "execution_count": null,
   "metadata": {},
   "outputs": [],
   "source": [
    "print(\"Indicizza per indici\")\n",
    "print(array[[0, 1],[1, 1]])\n",
    "# Equivale a \n",
    "print(numpy.array([array[0,1], array[1,1]]))"
   ]
  },
  {
   "cell_type": "code",
   "execution_count": null,
   "metadata": {},
   "outputs": [],
   "source": [
    "print(\"Crea un array con una condizione\")\n",
    "print(array > 6)"
   ]
  },
  {
   "cell_type": "code",
   "execution_count": null,
   "metadata": {},
   "outputs": [],
   "source": [
    "print(\"Usa una condizione per filtrare i dati\")\n",
    "print(array[array > 6])"
   ]
  },
  {
   "cell_type": "markdown",
   "metadata": {
    "slideshow": {
     "slide_type": "skip"
    }
   },
   "source": [
    "***"
   ]
  },
  {
   "cell_type": "markdown",
   "metadata": {
    "slideshow": {
     "slide_type": "subslide"
    }
   },
   "source": [
    "<font color='red'>Attenzione:</font> Al di là delle migliorie fatte, ci sono alcune differenze fondamentali tra numpy array e liste, specialmente per quanto riguarda lo slicing e le operazioni matematiche.\n",
    "La più importante di queste è che le liste creano delle copie (shallow) quando vi si accede in slicing, mentre gli array numpy creano delle viste:"
   ]
  },
  {
   "cell_type": "code",
   "execution_count": null,
   "metadata": {},
   "outputs": [],
   "source": [
    "print(\"List\")\n",
    "my_list = [0, 1, 2, 3]\n",
    "my_view = my_list[:]\n",
    "print(my_list)\n",
    "print(my_list + my_list)\n",
    "for i in range(len(my_view)):\n",
    "    my_view[i] = True\n",
    "print(my_list)"
   ]
  },
  {
   "cell_type": "code",
   "execution_count": null,
   "metadata": {},
   "outputs": [],
   "source": [
    "print(\"Numpy\")\n",
    "my_numpy = np.arange(4)\n",
    "my_view = my_numpy[:]\n",
    "print(my_numpy)\n",
    "print(my_numpy + my_numpy)\n",
    "my_view[:] = True\n",
    "print(my_numpy)"
   ]
  },
  {
   "cell_type": "markdown",
   "metadata": {
    "slideshow": {
     "slide_type": "skip"
    }
   },
   "source": [
    "***"
   ]
  },
  {
   "cell_type": "markdown",
   "metadata": {
    "slideshow": {
     "slide_type": "skip"
    }
   },
   "source": [
    "Vediamo un esempio pratico:"
   ]
  },
  {
   "cell_type": "code",
   "execution_count": null,
   "metadata": {
    "slideshow": {
     "slide_type": "skip"
    }
   },
   "outputs": [],
   "source": [
    "# Spesso l'import viene abbreviato\n",
    "import numpy as np\n",
    "\n",
    "# First 20 countries with employment data\n",
    "countries = np.array([\n",
    "    'Afghanistan', 'Albania', 'Algeria', 'Angola', 'Argentina',\n",
    "    'Armenia', 'Australia', 'Austria', 'Azerbaijan', 'Bahamas',\n",
    "    'Bahrain', 'Bangladesh', 'Barbados', 'Belarus', 'Belgium',\n",
    "    'Belize', 'Benin', 'Bhutan', 'Bolivia',\n",
    "    'Bosnia and Herzegovina'\n",
    "])\n",
    "\n",
    "# Employment data in 2007 for those 20 countries\n",
    "employment = np.array([\n",
    "    55.70000076,  51.40000153,  50.5       ,  75.69999695,\n",
    "    58.40000153,  40.09999847,  61.5       ,  57.09999847,\n",
    "    60.90000153,  66.59999847,  60.40000153,  68.09999847,\n",
    "    66.90000153,  53.40000153,  48.59999847,  56.79999924,\n",
    "    71.59999847,  58.40000153,  70.40000153,  41.20000076\n",
    "])\n",
    "\n",
    "\n",
    "def max_employment(countries, employment):\n",
    "    '''\n",
    "    Fill in this function to return the name of the country\n",
    "    with the highest employment in the given employment\n",
    "    data, and the employment in that country.\n",
    "    '''\n",
    "    max_value = employment.max()\n",
    "    max_country = countries[np.where(employment == max_value)[0][0]]\n",
    "    \n",
    "\n",
    "    return (max_country, max_value)\n",
    "\n",
    "print(\"Media\", employment.mean())\n",
    "print(\"Deviazione Standard\", employment.std())\n",
    "print(\"Massimo\", employment.max())\n",
    "print(\"Somma\", employment.sum())\n",
    "print(max_employment(countries, employment))"
   ]
  },
  {
   "cell_type": "markdown",
   "metadata": {
    "slideshow": {
     "slide_type": "skip"
    }
   },
   "source": [
    "***"
   ]
  },
  {
   "cell_type": "markdown",
   "metadata": {
    "slideshow": {
     "slide_type": "slide"
    }
   },
   "source": [
    "<a id='pandas'></a>\n",
    "## Pandas\n",
    "<img src=\"images/pandas.jpg\"/>\n",
    "Numpy non lo usa nessuno."
   ]
  },
  {
   "cell_type": "markdown",
   "metadata": {
    "slideshow": {
     "slide_type": "subslide"
    }
   },
   "source": [
    "No, non è vero, ma raramente viene usato direttamente, questo perchè ci hanno costruito sopra un'altra libreria: [*pandas*](https://pandas.pydata.org/).\n",
    "La differenza tra le due è che numpy gestisce tabelle di numeri (generalmente), mentre pandas gestisce tabelle di dati. Dati che si portano dietro il proprio significato. "
   ]
  },
  {
   "cell_type": "markdown",
   "metadata": {
    "slideshow": {
     "slide_type": "subslide"
    }
   },
   "source": [
    "**Lettura di CSV**\n",
    "\n",
    "I csv si traducono spontanemante nei cosiddetti *DataFrame* pandas:"
   ]
  },
  {
   "cell_type": "code",
   "execution_count": null,
   "metadata": {},
   "outputs": [],
   "source": [
    "import pandas\n",
    "\n",
    "df_enrollments = pandas.read_csv(\"files/Data Analisi/enrollments.csv\")\n",
    "print(df_enrollments.head()) # Display some data"
   ]
  },
  {
   "cell_type": "markdown",
   "metadata": {
    "slideshow": {
     "slide_type": "subslide"
    }
   },
   "source": [
    "<font color='blue'>Attenzione:</font> pandas ha già tradotto i dati in stringhe, numeri e booleani!"
   ]
  },
  {
   "cell_type": "code",
   "execution_count": null,
   "metadata": {},
   "outputs": [],
   "source": [
    "df_enrollments.info()  # Fornisce qualche informazione generica"
   ]
  },
  {
   "cell_type": "markdown",
   "metadata": {
    "slideshow": {
     "slide_type": "subslide"
    }
   },
   "source": [
    "**Leggere i dati**\n",
    "\n",
    "Ai dati si accede un po' come fosse un array, un po' come fosse un dizionario:"
   ]
  },
  {
   "cell_type": "code",
   "execution_count": null,
   "metadata": {},
   "outputs": [],
   "source": [
    "df_enrollments[\"cancel_date\"]  # Andando per chiavi si accede alle colonne"
   ]
  },
  {
   "cell_type": "code",
   "execution_count": null,
   "metadata": {},
   "outputs": [],
   "source": [
    "df_enrollments[[\"cancel_date\", \"is_udacity\"]].head()  # Si possono anche selezionare più colonne"
   ]
  },
  {
   "cell_type": "code",
   "execution_count": null,
   "metadata": {},
   "outputs": [],
   "source": [
    "df_enrollments[1:3]  # Usando lo slicing si accede alle righe"
   ]
  },
  {
   "cell_type": "code",
   "execution_count": null,
   "metadata": {},
   "outputs": [],
   "source": [
    "df_enrollments[0]  # Occhio che non si possono indicizzare le righe direttamente"
   ]
  },
  {
   "cell_type": "code",
   "execution_count": null,
   "metadata": {},
   "outputs": [],
   "source": [
    "print(df_enrollments.iloc[0])  # Bisogna usare iloc"
   ]
  },
  {
   "cell_type": "code",
   "execution_count": null,
   "metadata": {},
   "outputs": [],
   "source": [
    "print(df_enrollments.iloc[0:4])  # Anche in questo caso lo slicing è valido"
   ]
  },
  {
   "cell_type": "markdown",
   "metadata": {
    "slideshow": {
     "slide_type": "subslide"
    }
   },
   "source": [
    "**Semplici analisi**\n",
    "\n",
    "Sulle colonne dei DataFrame si può fare tutto ciò che si può fare in numpy."
   ]
  },
  {
   "cell_type": "code",
   "execution_count": null,
   "metadata": {
    "scrolled": true
   },
   "outputs": [],
   "source": [
    "print(df_enrollments[\"days_to_cancel\"].max())\n",
    "print(df_enrollments[\"days_to_cancel\"].std())\n",
    "print(df_enrollments[\"days_to_cancel\"].mean())"
   ]
  },
  {
   "cell_type": "code",
   "execution_count": null,
   "metadata": {},
   "outputs": [],
   "source": [
    "# Counting\n",
    "cancel_counts = df_enrollments[\"days_to_cancel\"].value_counts()  # Occorrenze per ogni valore\n",
    "cancel_counts"
   ]
  },
  {
   "cell_type": "markdown",
   "metadata": {
    "slideshow": {
     "slide_type": "subslide"
    }
   },
   "source": [
    "Ed è qua che si vede tutto il suo splendore, permettendo di filtrare una colonna sulla base delle altre."
   ]
  },
  {
   "cell_type": "code",
   "execution_count": null,
   "metadata": {},
   "outputs": [],
   "source": [
    "df_enrollments[df_enrollments[\"days_to_cancel\"] > 200]  # Filtro basato su una colonna"
   ]
  },
  {
   "cell_type": "code",
   "execution_count": null,
   "metadata": {
    "scrolled": true
   },
   "outputs": [],
   "source": [
    "df_enrollments[(pd_enrollments[\"days_to_cancel\"] > 20) & (df_enrollments[\"is_udacity\"])]  # Filtro basato su due condizioni\n",
    "# Da notare l'and \"binario\""
   ]
  },
  {
   "cell_type": "code",
   "execution_count": null,
   "metadata": {},
   "outputs": [],
   "source": [
    "# Grouping\n",
    "df_engagement = pandas.read_csv(\"files/Data Analisi/daily_engagement.csv\")\n",
    "print(df_engagement.head()) # Display some data\n",
    "df_engagement.groupby(\"num_courses_visited\").mean()"
   ]
  },
  {
   "cell_type": "markdown",
   "metadata": {
    "slideshow": {
     "slide_type": "subslide"
    }
   },
   "source": [
    "**Visualizzare i dati**\n",
    "\n",
    "Anche la visualizzazione dati è esageratamente semplice (e ovviamente personalizzabile):"
   ]
  },
  {
   "cell_type": "code",
   "execution_count": null,
   "metadata": {
    "scrolled": true
   },
   "outputs": [],
   "source": [
    "df_enrollments[\"days_to_cancel\"].plot()"
   ]
  },
  {
   "cell_type": "code",
   "execution_count": null,
   "metadata": {},
   "outputs": [],
   "source": [
    "print(type(cancel_counts))\n",
    "cancel_df = cancel_counts.reset_index()  # Turn the Series in a DataFrame\n",
    "print(type(cancel_df))\n",
    "print(cancel_df[:])\n",
    "cancel_df.rename(columns={\"index\": \"count\"}, inplace=True)\n",
    "cancel_df.plot(kind='scatter', x=\"count\", y='days_to_cancel')"
   ]
  },
  {
   "cell_type": "markdown",
   "metadata": {
    "slideshow": {
     "slide_type": "skip"
    }
   },
   "source": [
    "***"
   ]
  },
  {
   "cell_type": "markdown",
   "metadata": {
    "slideshow": {
     "slide_type": "slide"
    }
   },
   "source": [
    "<a id='documenting'></a>\n",
    "# Documentare il Codice\n",
    "\n",
    "<img src=\"images/documenting.jpg\"/>"
   ]
  },
  {
   "cell_type": "markdown",
   "metadata": {
    "slideshow": {
     "slide_type": "subslide"
    }
   },
   "source": [
    "Come in tutti i linguaggi è fondamentale documentare adeguatamente il codice. Al di là del fatto che il codice *self documenting* è sempre la cosa migliore da fare, non basta: \n",
    "    \n",
    "    Code is more often read than written\n",
    "\n",
    "Negli anni si sono formati alcuni standard di documentazione; tra i principali: \n",
    " * Google Docstrings\n",
    " * reStructured Text\n",
    " * NumPy/Scipy Docstrings\n",
    " * Epytext."
   ]
  },
  {
   "cell_type": "markdown",
   "metadata": {
    "slideshow": {
     "slide_type": "subslide"
    }
   },
   "source": [
    "Noi affronteremo *reStructured* perchè è quello che per *default* viene gestito da PyCharm (ma si può ovviamente cambiare), perchè si integra meglio (ma non è l'unico utilizzabile) con *Sphinx*, che vedremo dopo, e soprattutto perchè... è quella che conosco meglio.\n",
    "\n",
    "Le cose principali che vanno documentate sono:\n",
    "* Funzioni\n",
    "* Classi\n",
    "    * Attributi\n",
    "    * Metodi\n",
    "* Moduli\n",
    "\n",
    "Il progetto di esempio Pyzzeria ne riporta la maggior parte. Vediamo qualche dettaglio."
   ]
  },
  {
   "cell_type": "markdown",
   "metadata": {
    "slideshow": {
     "slide_type": "subslide"
    }
   },
   "source": [
    "**Funzioni**"
   ]
  },
  {
   "cell_type": "code",
   "execution_count": null,
   "metadata": {},
   "outputs": [],
   "source": [
    "def get_spreadsheet_cols(file_loc, print_cols=False):\n",
    "    \"\"\"\n",
    "    Gets and prints the spreadsheet's header columns.\n",
    "    \n",
    "    Takes care of opening the passed file and printing its column if the parameters allows it.\n",
    "\n",
    "    :param file_loc: The file location of the spreadsheet\n",
    "    :type file_loc: str\n",
    "    :param print_cols: A flag used to print the columns to the console (default is False)\n",
    "    :type print_cols: bool\n",
    "    :returns: a list of strings representing the header columns\n",
    "    :rtype: list\n",
    "    \"\"\"\n",
    "    # PS. PyCharm automatically generates the parameter parts.\n",
    "    file_data = pd.read_excel(file_loc)\n",
    "    col_headers = list(file_data.columns.values)\n",
    "\n",
    "    if print_cols:\n",
    "        print(\"\\n\".join(col_headers))\n",
    "\n",
    "    return col_headers"
   ]
  },
  {
   "cell_type": "markdown",
   "metadata": {
    "slideshow": {
     "slide_type": "subslide"
    }
   },
   "source": [
    "**Classi**"
   ]
  },
  {
   "cell_type": "code",
   "execution_count": null,
   "metadata": {},
   "outputs": [],
   "source": [
    "class MyClass:\n",
    "    \"\"\"\n",
    "    This class has this purpose.\n",
    "    \n",
    "    The class can be used to...\n",
    "    \"\"\"\n",
    "    class_attribute = 0\n",
    "    \n",
    "    def say_hello(self, name: str):\n",
    "        \"\"\"\n",
    "        Says Hello.\n",
    "        \n",
    "        Not much details to add here...\n",
    "        \"\"\"\n",
    "        print(f'Hello {name}')"
   ]
  },
  {
   "cell_type": "markdown",
   "metadata": {
    "slideshow": {
     "slide_type": "subslide"
    }
   },
   "source": [
    "**TODOs**"
   ]
  },
  {
   "cell_type": "code",
   "execution_count": null,
   "metadata": {},
   "outputs": [],
   "source": [
    "def my_function():\n",
    "    # TODO implementation\n",
    "    # Le etichette TODOs sono anche tracciate da PyCharm...\n",
    "    pass"
   ]
  },
  {
   "cell_type": "markdown",
   "metadata": {
    "slideshow": {
     "slide_type": "subslide"
    }
   },
   "source": [
    "<font color='blue'>N.B.:</font> Una documentazione adeguata riempie anche l'help."
   ]
  },
  {
   "cell_type": "code",
   "execution_count": null,
   "metadata": {},
   "outputs": [],
   "source": [
    "help(MyClass)"
   ]
  },
  {
   "cell_type": "markdown",
   "metadata": {
    "slideshow": {
     "slide_type": "slide"
    }
   },
   "source": [
    "<a id='typing'></a>\n",
    "## Typing\n",
    "\n",
    "**Python si può tipare.**"
   ]
  },
  {
   "cell_type": "markdown",
   "metadata": {
    "slideshow": {
     "slide_type": "subslide"
    }
   },
   "source": [
    "Sì. "
   ]
  },
  {
   "cell_type": "markdown",
   "metadata": {
    "slideshow": {
     "slide_type": "subslide"
    }
   },
   "source": [
    "..."
   ]
  },
  {
   "cell_type": "markdown",
   "metadata": {
    "slideshow": {
     "slide_type": "subslide"
    }
   },
   "source": [
    "Solo se hai Python >= 3.5."
   ]
  },
  {
   "cell_type": "markdown",
   "metadata": {
    "slideshow": {
     "slide_type": "subslide"
    }
   },
   "source": [
    "..."
   ]
  },
  {
   "cell_type": "markdown",
   "metadata": {
    "slideshow": {
     "slide_type": "subslide"
    }
   },
   "source": [
    "Non ha effetti a runtime (*)"
   ]
  },
  {
   "cell_type": "markdown",
   "metadata": {
    "slideshow": {
     "slide_type": "subslide"
    }
   },
   "source": [
    "..."
   ]
  },
  {
   "cell_type": "markdown",
   "metadata": {
    "slideshow": {
     "slide_type": "subslide"
    }
   },
   "source": [
    "A parte un piccolo rallentamento"
   ]
  },
  {
   "cell_type": "markdown",
   "metadata": {
    "slideshow": {
     "slide_type": "subslide"
    }
   },
   "source": [
    "..."
   ]
  },
  {
   "cell_type": "markdown",
   "metadata": {
    "slideshow": {
     "slide_type": "subslide"
    }
   },
   "source": [
    "**Ma è ottimo per la documentazione!**"
   ]
  },
  {
   "cell_type": "code",
   "execution_count": null,
   "metadata": {
    "slideshow": {
     "slide_type": "subslide"
    }
   },
   "outputs": [],
   "source": [
    "def get_spreadsheet_cols(file_loc, print_cols=False):\n",
    "    \"\"\"\n",
    "    Gets and prints the spreadsheet's header columns.\n",
    "    \n",
    "    Takes care of opening the passed file and printing its column if the parameters allows it.\n",
    "\n",
    "    :param file_loc: The file location of the spreadsheet\n",
    "    :type file_loc: str\n",
    "    :param print_cols: A flag used to print the columns to the console (default is False)\n",
    "    :type print_cols: bool\n",
    "    :returns: a list of strings representing the header columns\n",
    "    :rtype: list\n",
    "    \"\"\"\n",
    "    # PS. PyCharm automatically generates the parameter parts.\n",
    "    file_data = pd.read_excel(file_loc)\n",
    "    col_headers = list(file_data.columns.values)\n",
    "\n",
    "    if print_cols:\n",
    "        print(\"\\n\".join(col_headers))\n",
    "\n",
    "    return col_headers\n",
    "\n",
    "#Diventa\n",
    "\n",
    "def get_spreadsheet_cols(file_loc: str, print_cols: bool=False) -> list:\n",
    "    \"\"\"\n",
    "    Gets and prints the spreadsheet's header columns.\n",
    "    \n",
    "    Takes care of opening the passed file and printing its column if the parameters allows it.\n",
    "\n",
    "    :param file_loc: The file location of the spreadsheet\n",
    "    :param print_cols: A flag used to print the columns to the console (default is False)\n",
    "    :returns: a list of strings representing the header columns\n",
    "    \"\"\"\n",
    "    # PS. PyCharm automatically generates the parameter parts.\n",
    "    file_data = pd.read_excel(file_loc)\n",
    "    col_headers = list(file_data.columns.values)\n",
    "\n",
    "    if print_cols:\n",
    "        print(\"\\n\".join(col_headers))\n",
    "\n",
    "    return col_headers"
   ]
  },
  {
   "cell_type": "markdown",
   "metadata": {
    "slideshow": {
     "slide_type": "subslide"
    }
   },
   "source": [
    "Il pacchetto *typing* (quello effettivamente pesante) permette anche di creare tipy più complessi:"
   ]
  },
  {
   "cell_type": "code",
   "execution_count": null,
   "metadata": {},
   "outputs": [],
   "source": [
    "import typing\n",
    "\n",
    "my_list: typing.List[typing.Union[None, int]] = [None, 1]"
   ]
  },
  {
   "cell_type": "markdown",
   "metadata": {},
   "source": [
    "<font color='blue'>N.B.:</font> Un buon IDE riconosce i suggerimenti di tipo e segnala eventuali discrepanze."
   ]
  },
  {
   "cell_type": "code",
   "execution_count": null,
   "metadata": {
    "slideshow": {
     "slide_type": "skip"
    }
   },
   "outputs": [],
   "source": [
    "help(get_spreadsheet_cols)"
   ]
  },
  {
   "cell_type": "markdown",
   "metadata": {
    "slideshow": {
     "slide_type": "slide"
    }
   },
   "source": [
    "<a id='project'></a>\n",
    "## Struttura dei Progetti\n",
    "\n",
    "In questo caso un esempio è decisamente meglio. Diamo un occhio a Pyzzeria."
   ]
  },
  {
   "cell_type": "markdown",
   "metadata": {
    "slideshow": {
     "slide_type": "slide"
    }
   },
   "source": [
    "<a id='sphinx'></a>\n",
    "\n",
    "<img src=\"images/sphinx.png\"/>"
   ]
  },
  {
   "cell_type": "markdown",
   "metadata": {
    "slideshow": {
     "slide_type": "subslide"
    }
   },
   "source": [
    "Bello il codice documentato, ma se si dovesse fare una guida utente?\n",
    "Aggiungere informazioni che non ha senso mettere nel codice?\n",
    "\n",
    "[Sphinx](http://www.sphinx-doc.org/en/master/) è uno strumento che permette di creare documentazione utente **E(!)** generare in automatico la documentazione riguardante il codice, sulla base dei commenti.\n",
    "Siccome anche l'occhio vuole la sua parte, suggerisco **fortemente** l'utilizzo del tema [Read The Docs](https://sphinx-rtd-theme.readthedocs.io/en/stable/).\n",
    "\n",
    "    conda install sphinx_rtd_theme"
   ]
  },
  {
   "cell_type": "markdown",
   "metadata": {
    "slideshow": {
     "slide_type": "subslide"
    }
   },
   "source": [
    "Purtroppo, sono stato deprivato del tempo per preparare questo pezzo, quindi andremo di documentazioni ufficiali e esempi.\n",
    "\n",
    "[Impostazioni Base](https://matplotlib.org/sampledoc/getting_started.html)<br>\n",
    "[Generare documentazione del codice](https://gisellezeno.com/tutorials/sphinx-for-python-documentation.html)"
   ]
  },
  {
   "cell_type": "markdown",
   "metadata": {
    "slideshow": {
     "slide_type": "slide"
    }
   },
   "source": [
    "<a id='external_resources'></a>\n",
    "\n",
    "# Risorse Esterne\n",
    "\n",
    "Riporto qui una lista di risorse esterne che possono essere di aiuto per chi vuole rivedere le basi, approfondire, etc...\n",
    "Riporto anche alcune delle documentazioni che ho linkato nel corso.\n",
    "\n",
    "**Basi:**\n",
    "\n",
    "* [SoloLearn](https://www.sololearn.com/Course/Python/)\n",
    "    Breve corso online che ripete (e testa) le basi.\n",
    "\n",
    "**Avanzati**\n",
    "\n",
    "* [Data Analisi](https://classroom.udacity.com/loading)\n",
    "    È essenzialmente quello su cui mi sono basato. Bisogna fare un account, ma è free.\n",
    "   \n",
    "\n",
    "**Siti**\n",
    "\n",
    "* [Real Python](https://realpython.com/)\n",
    "    Questo è anche quello da cui ho preso la maggior parte delle immagini. \n",
    "    In realtà la maggior parte degli articoli sono da pagare, ma avendogli rubato le immagini mi sembrava brutto non metterlo...\n",
    "\n",
    "**Coding Challenges**\n",
    "\n",
    "* [HackerRank](https://www.hackerrank.com/domains/python)\n",
    "    Il mio sito preferito per tenermi in allenamento (se fate l'account, il mio profilo è @gelmilorenzo).\n",
    "    \n",
    "* [CodeWars](https://www.codewars.com/?language=python)\n",
    "    Altrettanto buono, per ragioni \"storiche\" non l'ho mai usato molto...\n",
    "\n",
    "**Things you should know**\n",
    "\n",
    "* [GIL](https://realpython.com/python-gil/)\n",
    "    Perchè il multithreading in Python è una bugia\n",
    "    \n",
    "* [Generatori](https://realpython.com/introduction-to-python-generators/)\n",
    "    Ciò che non ho avuto il coraggio di dirvi\n",
    "\n",
    "**Documentazioni**\n",
    "\n",
    "* [Documentazione Python Ufficiale](https://docs.python.org/3/)\n",
    "* [Conda](https://docs.conda.io/en/latest/)\n",
    "* [Jupyter](https://jupyter.org/documentation)\n",
    "* [Numpy](https://docs.scipy.org/doc/numpy/reference/)\n",
    "* [Pandas](https://pandas.pydata.org/pandas-docs/stable/)\n",
    "* [Sphinx](http://www.sphinx-doc.org/en/master/contents.html)\n",
    "* [Sphinx RTD Theme](https://sphinx-rtd-theme.readthedocs.io/en/stable/)\n",
    "\n",
    "\n"
   ]
  }
 ],
 "metadata": {
  "kernelspec": {
   "display_name": "Python 3",
   "language": "python",
   "name": "python3"
  },
  "language_info": {
   "codemirror_mode": {
    "name": "ipython",
    "version": 3
   },
   "file_extension": ".py",
   "mimetype": "text/x-python",
   "name": "python",
   "nbconvert_exporter": "python",
   "pygments_lexer": "ipython3",
   "version": "3.7.3"
  }
 },
 "nbformat": 4,
 "nbformat_minor": 2
}
